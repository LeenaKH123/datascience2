{
 "cells": [
  {
   "cell_type": "markdown",
   "metadata": {},
   "source": [
    "# Data Exploration with Python\n",
    "\n",
    "In the following, we will get some first experience with using Python and Jupyter notebooks for explorartive data analysis. We will again use the data from the NSW \"Work-From-Home\" survey as our example scenario.\n",
    "\n",
    "## EXERCISE 1: Reading and accessing data\n",
    "\n",
    "### Reading the WFH survey responses data using Pandas\n",
    "\n",
    "Download the _WFH-Survey-Responses-NSW.csv_ file. This is a clean version of the file. Note that we have changed the format of the file to .csv (comma-separated values), so you can get familiar with another very common file type. **Make sure that you save this file in the same folder you have this jupyter notebook.**\n",
    "\n",
    "To read the file and store the data, we will use `pandas`, an external Python module which contains useful functionality for processing and transforming data. First we will read our file with the `read_csv` function, and then we will print the first 3 rows of our data using the `head` function, to see how it looks like."
   ]
  },
  {
   "cell_type": "code",
   "execution_count": 61,
   "metadata": {},
   "outputs": [
    {
     "data": {
      "text/html": [
       "<div>\n",
       "<style scoped>\n",
       "    .dataframe tbody tr th:only-of-type {\n",
       "        vertical-align: middle;\n",
       "    }\n",
       "\n",
       "    .dataframe tbody tr th {\n",
       "        vertical-align: top;\n",
       "    }\n",
       "\n",
       "    .dataframe thead th {\n",
       "        text-align: right;\n",
       "    }\n",
       "</style>\n",
       "<table border=\"1\" class=\"dataframe\">\n",
       "  <thead>\n",
       "    <tr style=\"text-align: right;\">\n",
       "      <th></th>\n",
       "      <th>Response ID</th>\n",
       "      <th>What year were you born?</th>\n",
       "      <th>What is your gender?</th>\n",
       "      <th>Which of the following best describes your industry?</th>\n",
       "      <th>Which of the following best describes your industry? (Detailed)</th>\n",
       "      <th>Which of the following best describes your current occupation?</th>\n",
       "      <th>Which of the following best describes your current occupation? (Detailed)</th>\n",
       "      <th>How many people are currently employed by your organisation?</th>\n",
       "      <th>Do you manage people as part of your current occupation?</th>\n",
       "      <th>Which of the following best describes your household?</th>\n",
       "      <th>...</th>\n",
       "      <th>My organisation encouraged people to work remotely</th>\n",
       "      <th>My organisation was well prepared for me to work remotely</th>\n",
       "      <th>It was common for people in my organisation to work remotely</th>\n",
       "      <th>It was easy to get permission to work remotely</th>\n",
       "      <th>I could easily collaborate with colleagues when working remotely</th>\n",
       "      <th>I would recommend remote working to others</th>\n",
       "      <th>Unnamed: 19</th>\n",
       "      <th>Unnamed: 20</th>\n",
       "      <th>Unnamed: 21</th>\n",
       "      <th>Unnamed: 22</th>\n",
       "    </tr>\n",
       "  </thead>\n",
       "  <tbody>\n",
       "    <tr>\n",
       "      <th>0</th>\n",
       "      <td>1</td>\n",
       "      <td>1972</td>\n",
       "      <td>Female</td>\n",
       "      <td>Manufacturing</td>\n",
       "      <td>Food Product Manufacturing</td>\n",
       "      <td>Clerical and administrative</td>\n",
       "      <td>Other Clerical and Administrative</td>\n",
       "      <td>Between 20 and 199</td>\n",
       "      <td>No</td>\n",
       "      <td>Couple with no dependent children</td>\n",
       "      <td>...</td>\n",
       "      <td>NaN</td>\n",
       "      <td>NaN</td>\n",
       "      <td>NaN</td>\n",
       "      <td>NaN</td>\n",
       "      <td>NaN</td>\n",
       "      <td>NaN</td>\n",
       "      <td>NaN</td>\n",
       "      <td>NaN</td>\n",
       "      <td>NaN</td>\n",
       "      <td>NaN</td>\n",
       "    </tr>\n",
       "    <tr>\n",
       "      <th>1</th>\n",
       "      <td>2</td>\n",
       "      <td>1972</td>\n",
       "      <td>Male</td>\n",
       "      <td>Wholesale Trade</td>\n",
       "      <td>Other Goods Wholesaling</td>\n",
       "      <td>Managers</td>\n",
       "      <td>Chief Executives, General Managers and Legisla...</td>\n",
       "      <td>Between 1 and 4</td>\n",
       "      <td>Yes</td>\n",
       "      <td>Couple with dependent children</td>\n",
       "      <td>...</td>\n",
       "      <td>Somewhat agree</td>\n",
       "      <td>Somewhat agree</td>\n",
       "      <td>Somewhat agree</td>\n",
       "      <td>Somewhat agree</td>\n",
       "      <td>Somewhat agree</td>\n",
       "      <td>Somewhat agree</td>\n",
       "      <td>NaN</td>\n",
       "      <td>NaN</td>\n",
       "      <td>NaN</td>\n",
       "      <td>NaN</td>\n",
       "    </tr>\n",
       "    <tr>\n",
       "      <th>2</th>\n",
       "      <td>3</td>\n",
       "      <td>1982</td>\n",
       "      <td>Male</td>\n",
       "      <td>Electricity, Gas, Water and Waste Services</td>\n",
       "      <td>Gas Supply</td>\n",
       "      <td>Managers</td>\n",
       "      <td>Chief Executives, General Managers and Legisla...</td>\n",
       "      <td>More than 200</td>\n",
       "      <td>Yes</td>\n",
       "      <td>One  parent family with dependent children</td>\n",
       "      <td>...</td>\n",
       "      <td>Somewhat agree</td>\n",
       "      <td>Somewhat agree</td>\n",
       "      <td>Neither agree nor disagree</td>\n",
       "      <td>Somewhat agree</td>\n",
       "      <td>Neither agree nor disagree</td>\n",
       "      <td>Neither agree nor disagree</td>\n",
       "      <td>NaN</td>\n",
       "      <td>NaN</td>\n",
       "      <td>NaN</td>\n",
       "      <td>NaN</td>\n",
       "    </tr>\n",
       "    <tr>\n",
       "      <th>3</th>\n",
       "      <td>4</td>\n",
       "      <td>1987</td>\n",
       "      <td>Female</td>\n",
       "      <td>Professional, Scientific and Technical Services</td>\n",
       "      <td>Professional, Scientific and Technical Services</td>\n",
       "      <td>Professionals</td>\n",
       "      <td>ICT Professionals</td>\n",
       "      <td>Between 20 and 199</td>\n",
       "      <td>No</td>\n",
       "      <td>Couple with dependent children</td>\n",
       "      <td>...</td>\n",
       "      <td>Strongly disagree</td>\n",
       "      <td>Somewhat agree</td>\n",
       "      <td>Somewhat disagree</td>\n",
       "      <td>Somewhat disagree</td>\n",
       "      <td>Somewhat agree</td>\n",
       "      <td>Somewhat agree</td>\n",
       "      <td>NaN</td>\n",
       "      <td>NaN</td>\n",
       "      <td>NaN</td>\n",
       "      <td>NaN</td>\n",
       "    </tr>\n",
       "    <tr>\n",
       "      <th>4</th>\n",
       "      <td>5</td>\n",
       "      <td>1991</td>\n",
       "      <td>Male</td>\n",
       "      <td>Transport, Postal and Warehousing</td>\n",
       "      <td>Other Transport</td>\n",
       "      <td>Managers</td>\n",
       "      <td>Specialist Managers</td>\n",
       "      <td>Between 5 and 19</td>\n",
       "      <td>Yes</td>\n",
       "      <td>Couple with no dependent children</td>\n",
       "      <td>...</td>\n",
       "      <td>Strongly disagree</td>\n",
       "      <td>Somewhat agree</td>\n",
       "      <td>Somewhat disagree</td>\n",
       "      <td>Strongly disagree</td>\n",
       "      <td>Strongly agree</td>\n",
       "      <td>Somewhat agree</td>\n",
       "      <td>NaN</td>\n",
       "      <td>NaN</td>\n",
       "      <td>NaN</td>\n",
       "      <td>NaN</td>\n",
       "    </tr>\n",
       "    <tr>\n",
       "      <th>5</th>\n",
       "      <td>6</td>\n",
       "      <td>1989</td>\n",
       "      <td>Male</td>\n",
       "      <td>Retail Trade</td>\n",
       "      <td>Food Retailing</td>\n",
       "      <td>Sales</td>\n",
       "      <td>Sales Support</td>\n",
       "      <td>Between 20 and 199</td>\n",
       "      <td>No</td>\n",
       "      <td>Single person</td>\n",
       "      <td>...</td>\n",
       "      <td>Somewhat agree</td>\n",
       "      <td>Strongly agree</td>\n",
       "      <td>Somewhat agree</td>\n",
       "      <td>Strongly agree</td>\n",
       "      <td>Strongly agree</td>\n",
       "      <td>Strongly agree</td>\n",
       "      <td>NaN</td>\n",
       "      <td>NaN</td>\n",
       "      <td>NaN</td>\n",
       "      <td>NaN</td>\n",
       "    </tr>\n",
       "    <tr>\n",
       "      <th>6</th>\n",
       "      <td>7</td>\n",
       "      <td>1973</td>\n",
       "      <td>Male</td>\n",
       "      <td>Financial and Insurance Services</td>\n",
       "      <td>Finance</td>\n",
       "      <td>Clerical and administrative</td>\n",
       "      <td>General Clerical</td>\n",
       "      <td>More than 200</td>\n",
       "      <td>No</td>\n",
       "      <td>Couple with dependent children</td>\n",
       "      <td>...</td>\n",
       "      <td>NaN</td>\n",
       "      <td>NaN</td>\n",
       "      <td>NaN</td>\n",
       "      <td>NaN</td>\n",
       "      <td>NaN</td>\n",
       "      <td>NaN</td>\n",
       "      <td>NaN</td>\n",
       "      <td>NaN</td>\n",
       "      <td>NaN</td>\n",
       "      <td>NaN</td>\n",
       "    </tr>\n",
       "    <tr>\n",
       "      <th>7</th>\n",
       "      <td>8</td>\n",
       "      <td>1992</td>\n",
       "      <td>Male</td>\n",
       "      <td>Manufacturing</td>\n",
       "      <td>Polymer Product and Rubber Product Manufacturing</td>\n",
       "      <td>Managers</td>\n",
       "      <td>Chief Executives, General Managers and Legisla...</td>\n",
       "      <td>Between 5 and 19</td>\n",
       "      <td>Yes</td>\n",
       "      <td>Couple with dependent children</td>\n",
       "      <td>...</td>\n",
       "      <td>Strongly agree</td>\n",
       "      <td>Strongly agree</td>\n",
       "      <td>Somewhat agree</td>\n",
       "      <td>Somewhat agree</td>\n",
       "      <td>Somewhat agree</td>\n",
       "      <td>Somewhat agree</td>\n",
       "      <td>NaN</td>\n",
       "      <td>NaN</td>\n",
       "      <td>NaN</td>\n",
       "      <td>NaN</td>\n",
       "    </tr>\n",
       "    <tr>\n",
       "      <th>8</th>\n",
       "      <td>9</td>\n",
       "      <td>1977</td>\n",
       "      <td>Male</td>\n",
       "      <td>Administrative and Support Services</td>\n",
       "      <td>Administrative Services</td>\n",
       "      <td>Clerical and administrative</td>\n",
       "      <td>General Clerical</td>\n",
       "      <td>More than 200</td>\n",
       "      <td>No</td>\n",
       "      <td>Single person</td>\n",
       "      <td>...</td>\n",
       "      <td>Strongly agree</td>\n",
       "      <td>Somewhat agree</td>\n",
       "      <td>Neither agree nor disagree</td>\n",
       "      <td>Somewhat agree</td>\n",
       "      <td>Somewhat agree</td>\n",
       "      <td>Somewhat agree</td>\n",
       "      <td>NaN</td>\n",
       "      <td>NaN</td>\n",
       "      <td>NaN</td>\n",
       "      <td>NaN</td>\n",
       "    </tr>\n",
       "    <tr>\n",
       "      <th>9</th>\n",
       "      <td>10</td>\n",
       "      <td>1985</td>\n",
       "      <td>Male</td>\n",
       "      <td>Electricity, Gas, Water and Waste Services</td>\n",
       "      <td>Gas Supply</td>\n",
       "      <td>Managers</td>\n",
       "      <td>Specialist Managers</td>\n",
       "      <td>More than 200</td>\n",
       "      <td>No</td>\n",
       "      <td>Group household</td>\n",
       "      <td>...</td>\n",
       "      <td>Somewhat disagree</td>\n",
       "      <td>Somewhat agree</td>\n",
       "      <td>Somewhat disagree</td>\n",
       "      <td>Neither agree nor disagree</td>\n",
       "      <td>Somewhat agree</td>\n",
       "      <td>Neither agree nor disagree</td>\n",
       "      <td>NaN</td>\n",
       "      <td>NaN</td>\n",
       "      <td>NaN</td>\n",
       "      <td>NaN</td>\n",
       "    </tr>\n",
       "  </tbody>\n",
       "</table>\n",
       "<p>10 rows × 23 columns</p>\n",
       "</div>"
      ],
      "text/plain": [
       "   Response ID  What year were you born? What is your gender?  \\\n",
       "0            1                      1972               Female   \n",
       "1            2                      1972                 Male   \n",
       "2            3                      1982                 Male   \n",
       "3            4                      1987               Female   \n",
       "4            5                      1991                 Male   \n",
       "5            6                      1989                 Male   \n",
       "6            7                      1973                 Male   \n",
       "7            8                      1992                 Male   \n",
       "8            9                      1977                 Male   \n",
       "9           10                      1985                 Male   \n",
       "\n",
       "  Which of the following best describes your industry?  \\\n",
       "0                                      Manufacturing     \n",
       "1                                    Wholesale Trade     \n",
       "2         Electricity, Gas, Water and Waste Services     \n",
       "3    Professional, Scientific and Technical Services     \n",
       "4                  Transport, Postal and Warehousing     \n",
       "5                                       Retail Trade     \n",
       "6                   Financial and Insurance Services     \n",
       "7                                      Manufacturing     \n",
       "8                Administrative and Support Services     \n",
       "9         Electricity, Gas, Water and Waste Services     \n",
       "\n",
       "  Which of the following best describes your industry? (Detailed)  \\\n",
       "0                         Food Product Manufacturing                \n",
       "1                            Other Goods Wholesaling                \n",
       "2                                         Gas Supply                \n",
       "3    Professional, Scientific and Technical Services                \n",
       "4                                    Other Transport                \n",
       "5                                     Food Retailing                \n",
       "6                                            Finance                \n",
       "7   Polymer Product and Rubber Product Manufacturing                \n",
       "8                            Administrative Services                \n",
       "9                                         Gas Supply                \n",
       "\n",
       "  Which of the following best describes your current occupation?  \\\n",
       "0                       Clerical and administrative                \n",
       "1                                           Managers               \n",
       "2                                           Managers               \n",
       "3                                      Professionals               \n",
       "4                                           Managers               \n",
       "5                                             Sales                \n",
       "6                       Clerical and administrative                \n",
       "7                                           Managers               \n",
       "8                       Clerical and administrative                \n",
       "9                                           Managers               \n",
       "\n",
       "  Which of the following best describes your current occupation? (Detailed)  \\\n",
       "0                 Other Clerical and Administrative                           \n",
       "1  Chief Executives, General Managers and Legisla...                          \n",
       "2  Chief Executives, General Managers and Legisla...                          \n",
       "3                                  ICT Professionals                          \n",
       "4                                Specialist Managers                          \n",
       "5                                     Sales Support                           \n",
       "6                                  General Clerical                           \n",
       "7  Chief Executives, General Managers and Legisla...                          \n",
       "8                                  General Clerical                           \n",
       "9                                Specialist Managers                          \n",
       "\n",
       "  How many people are currently employed by your organisation?  \\\n",
       "0                                 Between 20 and 199             \n",
       "1                                    Between 1 and 4             \n",
       "2                                      More than 200             \n",
       "3                                 Between 20 and 199             \n",
       "4                                   Between 5 and 19             \n",
       "5                                 Between 20 and 199             \n",
       "6                                      More than 200             \n",
       "7                                   Between 5 and 19             \n",
       "8                                      More than 200             \n",
       "9                                      More than 200             \n",
       "\n",
       "  Do you manage people as part of your current occupation?  \\\n",
       "0                                                 No         \n",
       "1                                                Yes         \n",
       "2                                                Yes         \n",
       "3                                                 No         \n",
       "4                                                Yes         \n",
       "5                                                 No         \n",
       "6                                                 No         \n",
       "7                                                Yes         \n",
       "8                                                 No         \n",
       "9                                                 No         \n",
       "\n",
       "  Which of the following best describes your household?  ...  \\\n",
       "0                  Couple with no dependent children     ...   \n",
       "1                     Couple with dependent children     ...   \n",
       "2         One  parent family with dependent children     ...   \n",
       "3                     Couple with dependent children     ...   \n",
       "4                  Couple with no dependent children     ...   \n",
       "5                                      Single person     ...   \n",
       "6                     Couple with dependent children     ...   \n",
       "7                     Couple with dependent children     ...   \n",
       "8                                      Single person     ...   \n",
       "9                                    Group household     ...   \n",
       "\n",
       "  My organisation encouraged people to work remotely  \\\n",
       "0                                                NaN   \n",
       "1                                     Somewhat agree   \n",
       "2                                     Somewhat agree   \n",
       "3                                  Strongly disagree   \n",
       "4                                  Strongly disagree   \n",
       "5                                     Somewhat agree   \n",
       "6                                                NaN   \n",
       "7                                     Strongly agree   \n",
       "8                                     Strongly agree   \n",
       "9                                  Somewhat disagree   \n",
       "\n",
       "  My organisation was well prepared for me to work remotely  \\\n",
       "0                                                NaN          \n",
       "1                                     Somewhat agree          \n",
       "2                                     Somewhat agree          \n",
       "3                                     Somewhat agree          \n",
       "4                                     Somewhat agree          \n",
       "5                                     Strongly agree          \n",
       "6                                                NaN          \n",
       "7                                     Strongly agree          \n",
       "8                                     Somewhat agree          \n",
       "9                                     Somewhat agree          \n",
       "\n",
       "  It was common for people in my organisation to work remotely  \\\n",
       "0                                                NaN             \n",
       "1                                     Somewhat agree             \n",
       "2                         Neither agree nor disagree             \n",
       "3                                  Somewhat disagree             \n",
       "4                                  Somewhat disagree             \n",
       "5                                     Somewhat agree             \n",
       "6                                                NaN             \n",
       "7                                     Somewhat agree             \n",
       "8                         Neither agree nor disagree             \n",
       "9                                  Somewhat disagree             \n",
       "\n",
       "  It was easy to get permission to work remotely  \\\n",
       "0                                            NaN   \n",
       "1                                 Somewhat agree   \n",
       "2                                 Somewhat agree   \n",
       "3                              Somewhat disagree   \n",
       "4                              Strongly disagree   \n",
       "5                                 Strongly agree   \n",
       "6                                            NaN   \n",
       "7                                 Somewhat agree   \n",
       "8                                 Somewhat agree   \n",
       "9                     Neither agree nor disagree   \n",
       "\n",
       "  I could easily collaborate with colleagues when working remotely  \\\n",
       "0                                                NaN                 \n",
       "1                                     Somewhat agree                 \n",
       "2                         Neither agree nor disagree                 \n",
       "3                                     Somewhat agree                 \n",
       "4                                     Strongly agree                 \n",
       "5                                     Strongly agree                 \n",
       "6                                                NaN                 \n",
       "7                                     Somewhat agree                 \n",
       "8                                     Somewhat agree                 \n",
       "9                                     Somewhat agree                 \n",
       "\n",
       "  I would recommend remote working to others Unnamed: 19 Unnamed: 20  \\\n",
       "0                                        NaN         NaN         NaN   \n",
       "1                             Somewhat agree         NaN         NaN   \n",
       "2                 Neither agree nor disagree         NaN         NaN   \n",
       "3                             Somewhat agree         NaN         NaN   \n",
       "4                             Somewhat agree         NaN         NaN   \n",
       "5                             Strongly agree         NaN         NaN   \n",
       "6                                        NaN         NaN         NaN   \n",
       "7                             Somewhat agree         NaN         NaN   \n",
       "8                             Somewhat agree         NaN         NaN   \n",
       "9                 Neither agree nor disagree         NaN         NaN   \n",
       "\n",
       "  Unnamed: 21  Unnamed: 22  \n",
       "0         NaN          NaN  \n",
       "1         NaN          NaN  \n",
       "2         NaN          NaN  \n",
       "3         NaN          NaN  \n",
       "4         NaN          NaN  \n",
       "5         NaN          NaN  \n",
       "6         NaN          NaN  \n",
       "7         NaN          NaN  \n",
       "8         NaN          NaN  \n",
       "9         NaN          NaN  \n",
       "\n",
       "[10 rows x 23 columns]"
      ]
     },
     "execution_count": 61,
     "metadata": {},
     "output_type": "execute_result"
    }
   ],
   "source": [
    "import pandas as pd\n",
    "pd.options.mode.chained_assignment = None\n",
    "\n",
    "df = pd.read_csv('WFH-Survey-Responses-NSW.csv')\n",
    "df.head(10)"
   ]
  },
  {
   "cell_type": "markdown",
   "metadata": {},
   "source": [
    "As you can see, there are four columns at the end of the file that contain no information. We can easily remove them by using the pandas `drop` function. You can use this function to remove columns or rows, or even single cells."
   ]
  },
  {
   "cell_type": "code",
   "execution_count": 32,
   "metadata": {},
   "outputs": [],
   "source": [
    "df1 = df.drop(columns=['Unnamed: 19','Unnamed: 20','Unnamed: 21','Unnamed: 22'])"
   ]
  },
  {
   "cell_type": "code",
   "execution_count": 33,
   "metadata": {},
   "outputs": [
    {
     "data": {
      "text/html": [
       "<div>\n",
       "<style scoped>\n",
       "    .dataframe tbody tr th:only-of-type {\n",
       "        vertical-align: middle;\n",
       "    }\n",
       "\n",
       "    .dataframe tbody tr th {\n",
       "        vertical-align: top;\n",
       "    }\n",
       "\n",
       "    .dataframe thead th {\n",
       "        text-align: right;\n",
       "    }\n",
       "</style>\n",
       "<table border=\"1\" class=\"dataframe\">\n",
       "  <thead>\n",
       "    <tr style=\"text-align: right;\">\n",
       "      <th></th>\n",
       "      <th>Response ID</th>\n",
       "      <th>What year were you born?</th>\n",
       "      <th>What is your gender?</th>\n",
       "      <th>Which of the following best describes your industry?</th>\n",
       "      <th>Which of the following best describes your industry? (Detailed)</th>\n",
       "      <th>Which of the following best describes your current occupation?</th>\n",
       "      <th>Which of the following best describes your current occupation? (Detailed)</th>\n",
       "      <th>How many people are currently employed by your organisation?</th>\n",
       "      <th>Do you manage people as part of your current occupation?</th>\n",
       "      <th>Which of the following best describes your household?</th>\n",
       "      <th>How long have you been in your current job?</th>\n",
       "      <th>Metro / Regional</th>\n",
       "      <th>Thinking about your current job, how much of your time did you spend remote working last year?</th>\n",
       "      <th>My organisation encouraged people to work remotely</th>\n",
       "      <th>My organisation was well prepared for me to work remotely</th>\n",
       "      <th>It was common for people in my organisation to work remotely</th>\n",
       "      <th>It was easy to get permission to work remotely</th>\n",
       "      <th>I could easily collaborate with colleagues when working remotely</th>\n",
       "      <th>I would recommend remote working to others</th>\n",
       "    </tr>\n",
       "  </thead>\n",
       "  <tbody>\n",
       "    <tr>\n",
       "      <th>0</th>\n",
       "      <td>1</td>\n",
       "      <td>1972</td>\n",
       "      <td>Female</td>\n",
       "      <td>Manufacturing</td>\n",
       "      <td>Food Product Manufacturing</td>\n",
       "      <td>Clerical and administrative</td>\n",
       "      <td>Other Clerical and Administrative</td>\n",
       "      <td>Between 20 and 199</td>\n",
       "      <td>No</td>\n",
       "      <td>Couple with no dependent children</td>\n",
       "      <td>More than 5 years</td>\n",
       "      <td>Regional</td>\n",
       "      <td>0%</td>\n",
       "      <td>NaN</td>\n",
       "      <td>NaN</td>\n",
       "      <td>NaN</td>\n",
       "      <td>NaN</td>\n",
       "      <td>NaN</td>\n",
       "      <td>NaN</td>\n",
       "    </tr>\n",
       "    <tr>\n",
       "      <th>1</th>\n",
       "      <td>2</td>\n",
       "      <td>1972</td>\n",
       "      <td>Male</td>\n",
       "      <td>Wholesale Trade</td>\n",
       "      <td>Other Goods Wholesaling</td>\n",
       "      <td>Managers</td>\n",
       "      <td>Chief Executives, General Managers and Legisla...</td>\n",
       "      <td>Between 1 and 4</td>\n",
       "      <td>Yes</td>\n",
       "      <td>Couple with dependent children</td>\n",
       "      <td>More than 5 years</td>\n",
       "      <td>Metro</td>\n",
       "      <td>20%</td>\n",
       "      <td>Somewhat agree</td>\n",
       "      <td>Somewhat agree</td>\n",
       "      <td>Somewhat agree</td>\n",
       "      <td>Somewhat agree</td>\n",
       "      <td>Somewhat agree</td>\n",
       "      <td>Somewhat agree</td>\n",
       "    </tr>\n",
       "    <tr>\n",
       "      <th>2</th>\n",
       "      <td>3</td>\n",
       "      <td>1982</td>\n",
       "      <td>Male</td>\n",
       "      <td>Electricity, Gas, Water and Waste Services</td>\n",
       "      <td>Gas Supply</td>\n",
       "      <td>Managers</td>\n",
       "      <td>Chief Executives, General Managers and Legisla...</td>\n",
       "      <td>More than 200</td>\n",
       "      <td>Yes</td>\n",
       "      <td>One  parent family with dependent children</td>\n",
       "      <td>More than 5 years</td>\n",
       "      <td>Metro</td>\n",
       "      <td>60%</td>\n",
       "      <td>Somewhat agree</td>\n",
       "      <td>Somewhat agree</td>\n",
       "      <td>Neither agree nor disagree</td>\n",
       "      <td>Somewhat agree</td>\n",
       "      <td>Neither agree nor disagree</td>\n",
       "      <td>Neither agree nor disagree</td>\n",
       "    </tr>\n",
       "  </tbody>\n",
       "</table>\n",
       "</div>"
      ],
      "text/plain": [
       "   Response ID  What year were you born? What is your gender?  \\\n",
       "0            1                      1972               Female   \n",
       "1            2                      1972                 Male   \n",
       "2            3                      1982                 Male   \n",
       "\n",
       "  Which of the following best describes your industry?  \\\n",
       "0                                      Manufacturing     \n",
       "1                                    Wholesale Trade     \n",
       "2         Electricity, Gas, Water and Waste Services     \n",
       "\n",
       "  Which of the following best describes your industry? (Detailed)  \\\n",
       "0                         Food Product Manufacturing                \n",
       "1                            Other Goods Wholesaling                \n",
       "2                                         Gas Supply                \n",
       "\n",
       "  Which of the following best describes your current occupation?  \\\n",
       "0                       Clerical and administrative                \n",
       "1                                           Managers               \n",
       "2                                           Managers               \n",
       "\n",
       "  Which of the following best describes your current occupation? (Detailed)  \\\n",
       "0                 Other Clerical and Administrative                           \n",
       "1  Chief Executives, General Managers and Legisla...                          \n",
       "2  Chief Executives, General Managers and Legisla...                          \n",
       "\n",
       "  How many people are currently employed by your organisation?  \\\n",
       "0                                 Between 20 and 199             \n",
       "1                                    Between 1 and 4             \n",
       "2                                      More than 200             \n",
       "\n",
       "  Do you manage people as part of your current occupation?  \\\n",
       "0                                                 No         \n",
       "1                                                Yes         \n",
       "2                                                Yes         \n",
       "\n",
       "  Which of the following best describes your household?  \\\n",
       "0                  Couple with no dependent children      \n",
       "1                     Couple with dependent children      \n",
       "2         One  parent family with dependent children      \n",
       "\n",
       "  How long have you been in your current job? Metro / Regional  \\\n",
       "0                           More than 5 years         Regional   \n",
       "1                           More than 5 years            Metro   \n",
       "2                           More than 5 years            Metro   \n",
       "\n",
       "  Thinking about your current job, how much of your time did you spend remote working last year?  \\\n",
       "0                                                 0%                                               \n",
       "1                                                20%                                               \n",
       "2                                                60%                                               \n",
       "\n",
       "  My organisation encouraged people to work remotely  \\\n",
       "0                                                NaN   \n",
       "1                                     Somewhat agree   \n",
       "2                                     Somewhat agree   \n",
       "\n",
       "  My organisation was well prepared for me to work remotely  \\\n",
       "0                                                NaN          \n",
       "1                                     Somewhat agree          \n",
       "2                                     Somewhat agree          \n",
       "\n",
       "  It was common for people in my organisation to work remotely  \\\n",
       "0                                                NaN             \n",
       "1                                     Somewhat agree             \n",
       "2                         Neither agree nor disagree             \n",
       "\n",
       "  It was easy to get permission to work remotely  \\\n",
       "0                                            NaN   \n",
       "1                                 Somewhat agree   \n",
       "2                                 Somewhat agree   \n",
       "\n",
       "  I could easily collaborate with colleagues when working remotely  \\\n",
       "0                                                NaN                 \n",
       "1                                     Somewhat agree                 \n",
       "2                         Neither agree nor disagree                 \n",
       "\n",
       "  I would recommend remote working to others  \n",
       "0                                        NaN  \n",
       "1                             Somewhat agree  \n",
       "2                 Neither agree nor disagree  "
      ]
     },
     "execution_count": 33,
     "metadata": {},
     "output_type": "execute_result"
    }
   ],
   "source": [
    "df1.head(3)"
   ]
  },
  {
   "cell_type": "markdown",
   "metadata": {},
   "source": [
    "### Let's define column header names (define constants for dictionary keys)\n",
    "\n",
    "In pandas, we can access the information of a column using the _header_ as an input, as `df['column_header']`. You can even select multiple columns, separating each column header by a comma, e.g: `df[['column1_header','column2_header']]`.\n",
    "\n",
    "Given that the headers in our file are very long questions, we can create a variable with a shorter name to store the original header. That way we can use this shorter version as an input instead of the original header, making it much easier to work with."
   ]
  },
  {
   "cell_type": "code",
   "execution_count": 34,
   "metadata": {},
   "outputs": [],
   "source": [
    "RESPONSE = 'Response'\n",
    "YEAR_BORN = 'What year were you born?'\n",
    "GENDER = 'What is your gender?'\n",
    "INDUSTRY = 'Which of the following best describes your industry?'\n",
    "INDUSTRY_DETAILED = 'Which of the following best describes your industry? (Detailed)'\n",
    "OCCUPATION = 'Which of the following best describes your current occupation?'\n",
    "OCCUPATION_DETAILED = 'Which of the following best describes your current occupation? (Detailed)'\n",
    "ORGANISATION_EMPLOYEE_NUMBER = 'How many people are currently employed by your organisation?'\n",
    "MANAGE_PEOPLE = 'Do you manage people as part of your current occupation?'\n",
    "HOUSEHOLD = 'Which of the following best describes your household?'\n",
    "EMPLOYMENT_TIME = 'How long have you been in your current job?'\n",
    "METRO_REGIONAL = 'Metro / Regional'\n",
    "PERCENTAGE_WFH_LAST_YEAR ='Thinking about your current job, how much of your time did you spend remote working last year?'\n",
    "ORGANISATION_WFH_ENCOURAGEMENT = 'My organisation encouraged people to work remotely'\n",
    "ORGANISATION_WFH_PREPARATION = 'My organisation was well prepared for me to work remotely'\n",
    "ORGANISATION_WFH_COMMON = 'It was common for people in my organisation to work remotely'\n",
    "ORGANISATION_WFH_PERMISSION = 'It was easy to get permission to work remotely'\n",
    "WFH_COLLABORATION = 'I could easily collaborate with colleagues when working remotely'\n",
    "WFH_RECOMMEND = 'I would recommend remote working to others'"
   ]
  },
  {
   "cell_type": "markdown",
   "metadata": {},
   "source": [
    "### Accessing columns\n",
    "\n",
    "Now that we have created an easier way to access a column, let's see how it works.\n",
    "\n",
    "Let's select the column that contains the answers to the question _What year were you born?_"
   ]
  },
  {
   "cell_type": "code",
   "execution_count": 64,
   "metadata": {
    "scrolled": true
   },
   "outputs": [
    {
     "data": {
      "text/html": [
       "<div>\n",
       "<style scoped>\n",
       "    .dataframe tbody tr th:only-of-type {\n",
       "        vertical-align: middle;\n",
       "    }\n",
       "\n",
       "    .dataframe tbody tr th {\n",
       "        vertical-align: top;\n",
       "    }\n",
       "\n",
       "    .dataframe thead th {\n",
       "        text-align: right;\n",
       "    }\n",
       "</style>\n",
       "<table border=\"1\" class=\"dataframe\">\n",
       "  <thead>\n",
       "    <tr style=\"text-align: right;\">\n",
       "      <th></th>\n",
       "      <th>What year were you born?</th>\n",
       "      <th>What is your gender?</th>\n",
       "    </tr>\n",
       "  </thead>\n",
       "  <tbody>\n",
       "    <tr>\n",
       "      <th>0</th>\n",
       "      <td>1972</td>\n",
       "      <td>Female</td>\n",
       "    </tr>\n",
       "    <tr>\n",
       "      <th>1</th>\n",
       "      <td>1972</td>\n",
       "      <td>Male</td>\n",
       "    </tr>\n",
       "    <tr>\n",
       "      <th>2</th>\n",
       "      <td>1982</td>\n",
       "      <td>Male</td>\n",
       "    </tr>\n",
       "    <tr>\n",
       "      <th>3</th>\n",
       "      <td>1987</td>\n",
       "      <td>Female</td>\n",
       "    </tr>\n",
       "    <tr>\n",
       "      <th>4</th>\n",
       "      <td>1991</td>\n",
       "      <td>Male</td>\n",
       "    </tr>\n",
       "    <tr>\n",
       "      <th>...</th>\n",
       "      <td>...</td>\n",
       "      <td>...</td>\n",
       "    </tr>\n",
       "    <tr>\n",
       "      <th>1502</th>\n",
       "      <td>1995</td>\n",
       "      <td>Male</td>\n",
       "    </tr>\n",
       "    <tr>\n",
       "      <th>1503</th>\n",
       "      <td>1990</td>\n",
       "      <td>Female</td>\n",
       "    </tr>\n",
       "    <tr>\n",
       "      <th>1504</th>\n",
       "      <td>1998</td>\n",
       "      <td>Male</td>\n",
       "    </tr>\n",
       "    <tr>\n",
       "      <th>1505</th>\n",
       "      <td>1968</td>\n",
       "      <td>Female</td>\n",
       "    </tr>\n",
       "    <tr>\n",
       "      <th>1506</th>\n",
       "      <td>1980</td>\n",
       "      <td>Male</td>\n",
       "    </tr>\n",
       "  </tbody>\n",
       "</table>\n",
       "<p>1507 rows × 2 columns</p>\n",
       "</div>"
      ],
      "text/plain": [
       "      What year were you born? What is your gender?\n",
       "0                         1972               Female\n",
       "1                         1972                 Male\n",
       "2                         1982                 Male\n",
       "3                         1987               Female\n",
       "4                         1991                 Male\n",
       "...                        ...                  ...\n",
       "1502                      1995                 Male\n",
       "1503                      1990               Female\n",
       "1504                      1998                 Male\n",
       "1505                      1968               Female\n",
       "1506                      1980                 Male\n",
       "\n",
       "[1507 rows x 2 columns]"
      ]
     },
     "execution_count": 64,
     "metadata": {},
     "output_type": "execute_result"
    }
   ],
   "source": [
    "df[[YEAR_BORN, GENDER]]"
   ]
  },
  {
   "cell_type": "markdown",
   "metadata": {},
   "source": [
    "Now it is your turn:\n",
    "### TODO: Select the column with the answers to the questions: _Which of the following best describes your industry?_ and _Which of the following best describes your industry? (Detailed)_"
   ]
  },
  {
   "cell_type": "code",
   "execution_count": 36,
   "metadata": {
    "scrolled": true
   },
   "outputs": [
    {
     "data": {
      "text/plain": [
       "0                            Food Product Manufacturing\n",
       "1                               Other Goods Wholesaling\n",
       "2                                            Gas Supply\n",
       "3       Professional, Scientific and Technical Services\n",
       "4                                       Other Transport\n",
       "                             ...                       \n",
       "1502    Rental and Hiring Services (except Real Estate)\n",
       "1503    Grocery, Liquor and Tobacco Product Wholesaling\n",
       "1504                                          Hospitals\n",
       "1505                            Air and Space Transport\n",
       "1506                        Telecommunications Services\n",
       "Name: Which of the following best describes your industry? (Detailed), Length: 1507, dtype: object"
      ]
     },
     "execution_count": 36,
     "metadata": {},
     "output_type": "execute_result"
    }
   ],
   "source": [
    "# TODO: replace the content of this cell with your Python solution\n",
    "df[INDUSTRY]\n",
    "df[INDUSTRY_DETAILED]"
   ]
  },
  {
   "cell_type": "markdown",
   "metadata": {},
   "source": [
    "## *STOP PLEASE. THE FOLLOWING IS FOR THE NEXT EXERCISE. THANKS.*\n"
   ]
  },
  {
   "cell_type": "markdown",
   "metadata": {},
   "source": [
    "## EXERCISE 2: Frequency distribution\n",
    "\n",
    "Obtaining the frequency distribution or mode of a column is quite simple when using pandas. We first need to select the column we want to use, and then by using the `value_counts()` function. This function will count the number of times the same value appears in that column and return the frequency distribution.\n",
    "\n",
    "Let's obtain the frequency distribution for the question _What year were you born?_"
   ]
  },
  {
   "cell_type": "code",
   "execution_count": 37,
   "metadata": {},
   "outputs": [
    {
     "data": {
      "text/plain": [
       "What year were you born?\n",
       "1985    52\n",
       "1964    51\n",
       "1990    49\n",
       "1970    48\n",
       "1961    47\n",
       "1960    47\n",
       "1978    46\n",
       "1977    46\n",
       "1980    44\n",
       "1971    42\n",
       "1989    41\n",
       "1987    41\n",
       "1966    40\n",
       "1965    40\n",
       "1962    39\n",
       "1969    39\n",
       "1973    38\n",
       "1988    38\n",
       "1963    38\n",
       "1957    37\n",
       "1986    37\n",
       "1972    37\n",
       "1975    37\n",
       "1959    37\n",
       "1984    36\n",
       "1968    35\n",
       "1976    34\n",
       "1981    33\n",
       "1967    33\n",
       "1983    31\n",
       "1974    30\n",
       "1956    29\n",
       "1958    29\n",
       "1982    29\n",
       "1979    29\n",
       "1991    25\n",
       "1995    23\n",
       "1992    20\n",
       "1994    16\n",
       "1993    13\n",
       "1996    12\n",
       "1955     9\n",
       "2000     9\n",
       "1998     7\n",
       "1997     7\n",
       "1900     2\n",
       "2001     2\n",
       "1999     1\n",
       "1937     1\n",
       "1945     1\n",
       "Name: count, dtype: int64"
      ]
     },
     "execution_count": 37,
     "metadata": {},
     "output_type": "execute_result"
    }
   ],
   "source": [
    "df[YEAR_BORN].value_counts()"
   ]
  },
  {
   "cell_type": "markdown",
   "metadata": {},
   "source": [
    "### TODO: Calculate frequency distribution for the question: _Which of the following best describes your industry?_ and _Which of the following best describes your industry? (Detailed)_"
   ]
  },
  {
   "cell_type": "code",
   "execution_count": 38,
   "metadata": {
    "scrolled": true
   },
   "outputs": [
    {
     "name": "stdout",
     "output_type": "stream",
     "text": [
      "Which of the following best describes your industry?\n",
      "Professional, Scientific and Technical Services    259\n",
      "Financial and Insurance Services                   173\n",
      "Education and Training                             144\n",
      "Information Media and Telecommunications           114\n",
      "Health Care and Social Assistance                  103\n",
      "Other Services                                      90\n",
      "Retail Trade                                        87\n",
      "Manufacturing                                       82\n",
      "Public Administration and Safety                    81\n",
      "Administrative and Support Services                 76\n",
      "Transport, Postal and Warehousing                   57\n",
      "Construction                                        56\n",
      "Wholesale Trade                                     44\n",
      "Arts and Recreation Services                        38\n",
      "Accommodation and Food Services                     32\n",
      "Electricity, Gas, Water and Waste Services          29\n",
      "Rental, Hiring and Real Estate Services             25\n",
      "Agriculture, Forestry and Fishing                    9\n",
      "Mining                                               8\n",
      "Name: count, dtype: int64\n",
      "Which of the following best describes your industry? (Detailed)\n",
      "Professional, Scientific and Technical Services    183\n",
      "Finance                                            113\n",
      "Personal and Other Services                         79\n",
      "Computer System Design and Related Services         76\n",
      "Administrative Services                             73\n",
      "                                                  ... \n",
      "Exploration and Other Mining Support Services        2\n",
      "Gambling Activities                                  2\n",
      "Motion Picture and Sound Recording Activities        1\n",
      "Commission-Based Wholesaling                         1\n",
      "Metal Ore Mining                                     1\n",
      "Name: count, Length: 83, dtype: int64\n"
     ]
    }
   ],
   "source": [
    "# TODO: replace the content of this cell with your Python solution\n",
    "print(df[INDUSTRY].value_counts())\n",
    "print(df[INDUSTRY_DETAILED].value_counts())"
   ]
  },
  {
   "cell_type": "markdown",
   "metadata": {},
   "source": [
    "### Check types"
   ]
  },
  {
   "cell_type": "code",
   "execution_count": 39,
   "metadata": {},
   "outputs": [
    {
     "data": {
      "text/plain": [
       "Response ID                                                                                         int64\n",
       "What year were you born?                                                                            int64\n",
       "What is your gender?                                                                               object\n",
       "Which of the following best describes your industry?                                               object\n",
       "Which of the following best describes your industry? (Detailed)                                    object\n",
       "Which of the following best describes your current occupation?                                     object\n",
       "Which of the following best describes your current occupation? (Detailed)                          object\n",
       "How many people are currently employed by your organisation?                                       object\n",
       "Do you manage people as part of your current occupation?                                           object\n",
       "Which of the following best describes your household?                                              object\n",
       "How long have you been in your current job?                                                        object\n",
       "Metro / Regional                                                                                   object\n",
       "Thinking about your current job, how much of your time did you spend remote working last year?     object\n",
       "My organisation encouraged people to work remotely                                                 object\n",
       "My organisation was well prepared for me to work remotely                                          object\n",
       "It was common for people in my organisation to work remotely                                       object\n",
       "It was easy to get permission to work remotely                                                     object\n",
       "I could easily collaborate with colleagues when working remotely                                   object\n",
       "I would recommend remote working to others                                                         object\n",
       "Unnamed: 19                                                                                       float64\n",
       "Unnamed: 20                                                                                       float64\n",
       "Unnamed: 21                                                                                       float64\n",
       "Unnamed: 22                                                                                       float64\n",
       "dtype: object"
      ]
     },
     "execution_count": 39,
     "metadata": {},
     "output_type": "execute_result"
    }
   ],
   "source": [
    "df.dtypes"
   ]
  },
  {
   "cell_type": "markdown",
   "metadata": {},
   "source": [
    "Note how some of the variables have reasonable data types - for example the Response ID as intergert (int64) - while others are just generically imported as 'object' which means as text string. In some cases these are indeed text strings, but in some other cases it can hont towards some data cleaning tasks ahead.\n",
    "\n",
    "We can also manually convert some columns to a new data type we find more appropriate. For example, in the following let us convert the 'What year were you born?' column into a Python datatime type:"
   ]
  },
  {
   "cell_type": "code",
   "execution_count": 40,
   "metadata": {},
   "outputs": [
    {
     "data": {
      "text/html": [
       "<div>\n",
       "<style scoped>\n",
       "    .dataframe tbody tr th:only-of-type {\n",
       "        vertical-align: middle;\n",
       "    }\n",
       "\n",
       "    .dataframe tbody tr th {\n",
       "        vertical-align: top;\n",
       "    }\n",
       "\n",
       "    .dataframe thead th {\n",
       "        text-align: right;\n",
       "    }\n",
       "</style>\n",
       "<table border=\"1\" class=\"dataframe\">\n",
       "  <thead>\n",
       "    <tr style=\"text-align: right;\">\n",
       "      <th></th>\n",
       "      <th>Response ID</th>\n",
       "      <th>What year were you born?</th>\n",
       "      <th>What is your gender?</th>\n",
       "      <th>Which of the following best describes your industry?</th>\n",
       "      <th>Which of the following best describes your industry? (Detailed)</th>\n",
       "      <th>Which of the following best describes your current occupation?</th>\n",
       "      <th>Which of the following best describes your current occupation? (Detailed)</th>\n",
       "      <th>How many people are currently employed by your organisation?</th>\n",
       "      <th>Do you manage people as part of your current occupation?</th>\n",
       "      <th>Which of the following best describes your household?</th>\n",
       "      <th>...</th>\n",
       "      <th>My organisation encouraged people to work remotely</th>\n",
       "      <th>My organisation was well prepared for me to work remotely</th>\n",
       "      <th>It was common for people in my organisation to work remotely</th>\n",
       "      <th>It was easy to get permission to work remotely</th>\n",
       "      <th>I could easily collaborate with colleagues when working remotely</th>\n",
       "      <th>I would recommend remote working to others</th>\n",
       "      <th>Unnamed: 19</th>\n",
       "      <th>Unnamed: 20</th>\n",
       "      <th>Unnamed: 21</th>\n",
       "      <th>Unnamed: 22</th>\n",
       "    </tr>\n",
       "  </thead>\n",
       "  <tbody>\n",
       "    <tr>\n",
       "      <th>0</th>\n",
       "      <td>1</td>\n",
       "      <td>1972-01-01</td>\n",
       "      <td>Female</td>\n",
       "      <td>Manufacturing</td>\n",
       "      <td>Food Product Manufacturing</td>\n",
       "      <td>Clerical and administrative</td>\n",
       "      <td>Other Clerical and Administrative</td>\n",
       "      <td>Between 20 and 199</td>\n",
       "      <td>No</td>\n",
       "      <td>Couple with no dependent children</td>\n",
       "      <td>...</td>\n",
       "      <td>NaN</td>\n",
       "      <td>NaN</td>\n",
       "      <td>NaN</td>\n",
       "      <td>NaN</td>\n",
       "      <td>NaN</td>\n",
       "      <td>NaN</td>\n",
       "      <td>NaN</td>\n",
       "      <td>NaN</td>\n",
       "      <td>NaN</td>\n",
       "      <td>NaN</td>\n",
       "    </tr>\n",
       "    <tr>\n",
       "      <th>1</th>\n",
       "      <td>2</td>\n",
       "      <td>1972-01-01</td>\n",
       "      <td>Male</td>\n",
       "      <td>Wholesale Trade</td>\n",
       "      <td>Other Goods Wholesaling</td>\n",
       "      <td>Managers</td>\n",
       "      <td>Chief Executives, General Managers and Legisla...</td>\n",
       "      <td>Between 1 and 4</td>\n",
       "      <td>Yes</td>\n",
       "      <td>Couple with dependent children</td>\n",
       "      <td>...</td>\n",
       "      <td>Somewhat agree</td>\n",
       "      <td>Somewhat agree</td>\n",
       "      <td>Somewhat agree</td>\n",
       "      <td>Somewhat agree</td>\n",
       "      <td>Somewhat agree</td>\n",
       "      <td>Somewhat agree</td>\n",
       "      <td>NaN</td>\n",
       "      <td>NaN</td>\n",
       "      <td>NaN</td>\n",
       "      <td>NaN</td>\n",
       "    </tr>\n",
       "    <tr>\n",
       "      <th>2</th>\n",
       "      <td>3</td>\n",
       "      <td>1982-01-01</td>\n",
       "      <td>Male</td>\n",
       "      <td>Electricity, Gas, Water and Waste Services</td>\n",
       "      <td>Gas Supply</td>\n",
       "      <td>Managers</td>\n",
       "      <td>Chief Executives, General Managers and Legisla...</td>\n",
       "      <td>More than 200</td>\n",
       "      <td>Yes</td>\n",
       "      <td>One  parent family with dependent children</td>\n",
       "      <td>...</td>\n",
       "      <td>Somewhat agree</td>\n",
       "      <td>Somewhat agree</td>\n",
       "      <td>Neither agree nor disagree</td>\n",
       "      <td>Somewhat agree</td>\n",
       "      <td>Neither agree nor disagree</td>\n",
       "      <td>Neither agree nor disagree</td>\n",
       "      <td>NaN</td>\n",
       "      <td>NaN</td>\n",
       "      <td>NaN</td>\n",
       "      <td>NaN</td>\n",
       "    </tr>\n",
       "    <tr>\n",
       "      <th>3</th>\n",
       "      <td>4</td>\n",
       "      <td>1987-01-01</td>\n",
       "      <td>Female</td>\n",
       "      <td>Professional, Scientific and Technical Services</td>\n",
       "      <td>Professional, Scientific and Technical Services</td>\n",
       "      <td>Professionals</td>\n",
       "      <td>ICT Professionals</td>\n",
       "      <td>Between 20 and 199</td>\n",
       "      <td>No</td>\n",
       "      <td>Couple with dependent children</td>\n",
       "      <td>...</td>\n",
       "      <td>Strongly disagree</td>\n",
       "      <td>Somewhat agree</td>\n",
       "      <td>Somewhat disagree</td>\n",
       "      <td>Somewhat disagree</td>\n",
       "      <td>Somewhat agree</td>\n",
       "      <td>Somewhat agree</td>\n",
       "      <td>NaN</td>\n",
       "      <td>NaN</td>\n",
       "      <td>NaN</td>\n",
       "      <td>NaN</td>\n",
       "    </tr>\n",
       "    <tr>\n",
       "      <th>4</th>\n",
       "      <td>5</td>\n",
       "      <td>1991-01-01</td>\n",
       "      <td>Male</td>\n",
       "      <td>Transport, Postal and Warehousing</td>\n",
       "      <td>Other Transport</td>\n",
       "      <td>Managers</td>\n",
       "      <td>Specialist Managers</td>\n",
       "      <td>Between 5 and 19</td>\n",
       "      <td>Yes</td>\n",
       "      <td>Couple with no dependent children</td>\n",
       "      <td>...</td>\n",
       "      <td>Strongly disagree</td>\n",
       "      <td>Somewhat agree</td>\n",
       "      <td>Somewhat disagree</td>\n",
       "      <td>Strongly disagree</td>\n",
       "      <td>Strongly agree</td>\n",
       "      <td>Somewhat agree</td>\n",
       "      <td>NaN</td>\n",
       "      <td>NaN</td>\n",
       "      <td>NaN</td>\n",
       "      <td>NaN</td>\n",
       "    </tr>\n",
       "  </tbody>\n",
       "</table>\n",
       "<p>5 rows × 23 columns</p>\n",
       "</div>"
      ],
      "text/plain": [
       "   Response ID What year were you born? What is your gender?  \\\n",
       "0            1               1972-01-01               Female   \n",
       "1            2               1972-01-01                 Male   \n",
       "2            3               1982-01-01                 Male   \n",
       "3            4               1987-01-01               Female   \n",
       "4            5               1991-01-01                 Male   \n",
       "\n",
       "  Which of the following best describes your industry?  \\\n",
       "0                                      Manufacturing     \n",
       "1                                    Wholesale Trade     \n",
       "2         Electricity, Gas, Water and Waste Services     \n",
       "3    Professional, Scientific and Technical Services     \n",
       "4                  Transport, Postal and Warehousing     \n",
       "\n",
       "  Which of the following best describes your industry? (Detailed)  \\\n",
       "0                         Food Product Manufacturing                \n",
       "1                            Other Goods Wholesaling                \n",
       "2                                         Gas Supply                \n",
       "3    Professional, Scientific and Technical Services                \n",
       "4                                    Other Transport                \n",
       "\n",
       "  Which of the following best describes your current occupation?  \\\n",
       "0                       Clerical and administrative                \n",
       "1                                           Managers               \n",
       "2                                           Managers               \n",
       "3                                      Professionals               \n",
       "4                                           Managers               \n",
       "\n",
       "  Which of the following best describes your current occupation? (Detailed)  \\\n",
       "0                 Other Clerical and Administrative                           \n",
       "1  Chief Executives, General Managers and Legisla...                          \n",
       "2  Chief Executives, General Managers and Legisla...                          \n",
       "3                                  ICT Professionals                          \n",
       "4                                Specialist Managers                          \n",
       "\n",
       "  How many people are currently employed by your organisation?  \\\n",
       "0                                 Between 20 and 199             \n",
       "1                                    Between 1 and 4             \n",
       "2                                      More than 200             \n",
       "3                                 Between 20 and 199             \n",
       "4                                   Between 5 and 19             \n",
       "\n",
       "  Do you manage people as part of your current occupation?  \\\n",
       "0                                                 No         \n",
       "1                                                Yes         \n",
       "2                                                Yes         \n",
       "3                                                 No         \n",
       "4                                                Yes         \n",
       "\n",
       "  Which of the following best describes your household?  ...  \\\n",
       "0                  Couple with no dependent children     ...   \n",
       "1                     Couple with dependent children     ...   \n",
       "2         One  parent family with dependent children     ...   \n",
       "3                     Couple with dependent children     ...   \n",
       "4                  Couple with no dependent children     ...   \n",
       "\n",
       "  My organisation encouraged people to work remotely  \\\n",
       "0                                                NaN   \n",
       "1                                     Somewhat agree   \n",
       "2                                     Somewhat agree   \n",
       "3                                  Strongly disagree   \n",
       "4                                  Strongly disagree   \n",
       "\n",
       "  My organisation was well prepared for me to work remotely  \\\n",
       "0                                                NaN          \n",
       "1                                     Somewhat agree          \n",
       "2                                     Somewhat agree          \n",
       "3                                     Somewhat agree          \n",
       "4                                     Somewhat agree          \n",
       "\n",
       "  It was common for people in my organisation to work remotely  \\\n",
       "0                                                NaN             \n",
       "1                                     Somewhat agree             \n",
       "2                         Neither agree nor disagree             \n",
       "3                                  Somewhat disagree             \n",
       "4                                  Somewhat disagree             \n",
       "\n",
       "  It was easy to get permission to work remotely  \\\n",
       "0                                            NaN   \n",
       "1                                 Somewhat agree   \n",
       "2                                 Somewhat agree   \n",
       "3                              Somewhat disagree   \n",
       "4                              Strongly disagree   \n",
       "\n",
       "  I could easily collaborate with colleagues when working remotely  \\\n",
       "0                                                NaN                 \n",
       "1                                     Somewhat agree                 \n",
       "2                         Neither agree nor disagree                 \n",
       "3                                     Somewhat agree                 \n",
       "4                                     Strongly agree                 \n",
       "\n",
       "  I would recommend remote working to others Unnamed: 19 Unnamed: 20  \\\n",
       "0                                        NaN         NaN         NaN   \n",
       "1                             Somewhat agree         NaN         NaN   \n",
       "2                 Neither agree nor disagree         NaN         NaN   \n",
       "3                             Somewhat agree         NaN         NaN   \n",
       "4                             Somewhat agree         NaN         NaN   \n",
       "\n",
       "  Unnamed: 21  Unnamed: 22  \n",
       "0         NaN          NaN  \n",
       "1         NaN          NaN  \n",
       "2         NaN          NaN  \n",
       "3         NaN          NaN  \n",
       "4         NaN          NaN  \n",
       "\n",
       "[5 rows x 23 columns]"
      ]
     },
     "execution_count": 40,
     "metadata": {},
     "output_type": "execute_result"
    }
   ],
   "source": [
    "from numpy import datetime64\n",
    "from datetime import datetime\n",
    "# Reference https://numpy.org/doc/1.18/reference/arrays.datetime.html\n",
    "df[YEAR_BORN] = df[YEAR_BORN].apply(str)\n",
    "df[YEAR_BORN] = pd.Series([datetime.strptime(year,'%Y') for year in df[YEAR_BORN]])\n",
    "# If you need a datetime type (note pandas does not support times coarser than nanosecond.)\n",
    "df.astype({YEAR_BORN: 'datetime64[ns]'})\n",
    "df.head()"
   ]
  },
  {
   "cell_type": "code",
   "execution_count": 41,
   "metadata": {},
   "outputs": [
    {
     "name": "stdout",
     "output_type": "stream",
     "text": [
      "before: 1900-01-01 00:00:00\n",
      "after: 1937-01-01 00:00:00\n"
     ]
    }
   ],
   "source": [
    "# Encode values as NaNs (not a number) or NaTs (not a time)\n",
    "import numpy as np\n",
    "before = df[YEAR_BORN].min()\n",
    "df[YEAR_BORN] = df[YEAR_BORN].replace(np.datetime64('1900-01-01'), np.datetime64('NaT'))\n",
    "after = df[YEAR_BORN].min()\n",
    "print('before:', before)\n",
    "print('after:', after)"
   ]
  },
  {
   "cell_type": "markdown",
   "metadata": {},
   "source": [
    "### TODO: Update a function that cleans a Pandas Series"
   ]
  },
  {
   "cell_type": "code",
   "execution_count": 42,
   "metadata": {},
   "outputs": [
    {
     "data": {
      "text/plain": [
       "0         Gender.MALE\n",
       "1         Gender.MALE\n",
       "2    Gender.NONBINARY\n",
       "3       Gender.FEMALE\n",
       "4       Gender.FEMALE\n",
       "5    Gender.NONBINARY\n",
       "6      Gender.UNKNOWN\n",
       "dtype: object"
      ]
     },
     "execution_count": 42,
     "metadata": {},
     "output_type": "execute_result"
    }
   ],
   "source": [
    "gender_series = pd.Series(['M', 'Male', 'NB', 'Female', 'F', 'NonBinary', 'Undisclosed'])\n",
    "\n",
    "# Define the set of allowed values for the Series\n",
    "from enum import Enum\n",
    "class Gender(Enum):\n",
    "    UNKNOWN = 1\n",
    "    FEMALE = 2\n",
    "    MALE = 3\n",
    "    NONBINARY = 4\n",
    "\n",
    "# A function that applies a transformation to the data in a series\n",
    "def my_function(value):\n",
    "    \"\"\"Example: manually map string values to an Enum\"\"\"\n",
    "    if value in {'Female', 'F'}:\n",
    "        return Gender.FEMALE\n",
    "    # TODO: handle other values\n",
    "    elif value in {'Male', 'M'}:\n",
    "        return Gender.MALE\n",
    "    elif value in {'NonBinary', 'NB'}:\n",
    "        return Gender.NONBINARY\n",
    "    else: \n",
    "        return Gender.UNKNOWN\n",
    "\n",
    "gender_series.apply(my_function)"
   ]
  },
  {
   "cell_type": "markdown",
   "metadata": {},
   "source": [
    "## *STOP PLEASE. THE FOLLOWING IS FOR THE NEXT EXERCISE. THANKS.*\n"
   ]
  },
  {
   "cell_type": "markdown",
   "metadata": {},
   "source": [
    "## EXERCISE 3: Calculating descriptive statistics\n",
    "\n",
    "### Statistics with Pandas\n",
    "\n",
    "Pandas includes multiple statistic functions, such as `min()`, `max()`, `mean()` and `median()`. Additionally, it includes the function `describe()`, which provides descriptive statistics.\n",
    "\n",
    "Let's have a look at the statistics for the question _What year were you born?_"
   ]
  },
  {
   "cell_type": "code",
   "execution_count": 43,
   "metadata": {},
   "outputs": [
    {
     "data": {
      "text/plain": [
       "count                             1505\n",
       "mean     1974-11-22 07:50:45.049833888\n",
       "min                1937-01-01 00:00:00\n",
       "25%                1965-01-01 00:00:00\n",
       "50%                1975-01-01 00:00:00\n",
       "75%                1985-01-01 00:00:00\n",
       "max                2001-01-01 00:00:00\n",
       "Name: What year were you born?, dtype: object"
      ]
     },
     "execution_count": 43,
     "metadata": {},
     "output_type": "execute_result"
    }
   ],
   "source": [
    "df[YEAR_BORN].describe()"
   ]
  },
  {
   "cell_type": "markdown",
   "metadata": {},
   "source": [
    "Now, let's have a look at the statistics we get when dealing with nominal data. To do this, we will obtain the descriptive statistics for the question _Which of the following best describes your industry?_"
   ]
  },
  {
   "cell_type": "code",
   "execution_count": 44,
   "metadata": {},
   "outputs": [
    {
     "data": {
      "text/plain": [
       "count                                                1507\n",
       "unique                                                 19\n",
       "top       Professional, Scientific and Technical Services\n",
       "freq                                                  259\n",
       "Name: Which of the following best describes your industry?, dtype: object"
      ]
     },
     "execution_count": 44,
     "metadata": {},
     "output_type": "execute_result"
    }
   ],
   "source": [
    "df[INDUSTRY].describe()"
   ]
  },
  {
   "cell_type": "markdown",
   "metadata": {},
   "source": [
    "### TODO: Obtain the descriptive statistics for the questions: _Which of the following best describes your current occupation?_ and _How many people are currently employed by your organisation?_"
   ]
  },
  {
   "cell_type": "code",
   "execution_count": 53,
   "metadata": {},
   "outputs": [
    {
     "data": {
      "text/plain": [
       "count              1507\n",
       "unique                8\n",
       "top       Professionals\n",
       "freq                580\n",
       "Name: Which of the following best describes your current occupation?, dtype: object"
      ]
     },
     "execution_count": 53,
     "metadata": {},
     "output_type": "execute_result"
    }
   ],
   "source": [
    "df[OCCUPATION].describe()\n",
    "\n"
   ]
  },
  {
   "cell_type": "code",
   "execution_count": 54,
   "metadata": {},
   "outputs": [
    {
     "data": {
      "text/plain": [
       "count              1507\n",
       "unique                5\n",
       "top       More than 200\n",
       "freq                739\n",
       "Name: How many people are currently employed by your organisation?, dtype: object"
      ]
     },
     "execution_count": 54,
     "metadata": {},
     "output_type": "execute_result"
    }
   ],
   "source": [
    "df[ORGANISATION_EMPLOYEE_NUMBER].describe()"
   ]
  },
  {
   "cell_type": "markdown",
   "metadata": {},
   "source": [
    "## *STOP PLEASE. THE FOLLOWING IS FOR THE NEXT EXERCISE. THANKS.*\n"
   ]
  },
  {
   "cell_type": "markdown",
   "metadata": {},
   "source": [
    " ## EXERCISE 4: Visualisation with matplotlib\n",
    "\n",
    "### Making a histogram\n",
    "\n",
    "`matplotlib` provides functionality for creating various plots.\n",
    "\n",
    "Let's make a histogram for the question _What year were you born?_ To create a histogram, we use the `hist(x,bins=n)` function from matplotlib, where we need to specify the values (`x`) we want to plot and the number of bins (`n`) we want in our histogram. Additionally, we can specify the space between bars using the `rwidth` option."
   ]
  },
  {
   "cell_type": "code",
   "execution_count": 65,
   "metadata": {
    "scrolled": true
   },
   "outputs": [
    {
     "data": {
      "image/png": "[encoded data removed]",
      "text/plain": [
       "<Figure size 640x480 with 1 Axes>"
      ]
     },
     "metadata": {},
     "output_type": "display_data"
    }
   ],
   "source": [
    "import matplotlib.pyplot as plt\n",
    "\n",
    "plt.hist(df[YEAR_BORN], bins = 20, rwidth=0.8)\n",
    "plt.ylabel('Number of responses')\n",
    "plt.xlabel('Year')\n",
    "plt.title('What year were you born?')\n",
    "plt.show()"
   ]
  },
  {
   "cell_type": "markdown",
   "metadata": {},
   "source": [
    "Try changing the number of bins and observe how the plot changes. The higher the number of bins, the smaller the bars will become, as it will divide the data in more segments. If you know the _min_ and _max_ of your data values, you can calculate an appropiate number of bins depending of what you want to observe. For example, if your data values go from 1 to 100, if you select 10 bins, it will divide your data in segments of every 10: 1-10, 11-20, ... , 91-100. If you select 5 bins, it will divide your data in segments of every 5: 1-5, 6-10, ... , 96-100. Always choose a number of bins that allows you to observe the tendency of the data.\n",
    "\n",
    "Now, let's make a histogram with some nominal data. To do this, we first need to obtain the frequency distribution for the data we want to plot (See Exercise 2), and then use a bar plot to visualise the distribution. In this case, we don't need to use the histogram function, and there's no bin size because we're not dealing with numerical data.\n",
    "\n",
    "Let's make the bar plot for the question _Which of the following best describes your industry?_ Given that our data has nominal data, it's best to make a horizontal bar plot. Additionally, we can use the pandas function `plot.barh()` to plot the data. This way, we only need to obtain the frequency distribution of the data and then plot. We can set the title of the plot as an option and then we can specify the labels of the axis using the `set_xlabel()` and `set_ylabel` functions."
   ]
  },
  {
   "cell_type": "code",
   "execution_count": 56,
   "metadata": {},
   "outputs": [
    {
     "data": {
      "text/plain": [
       "Text(0, 0.5, 'Industry')"
      ]
     },
     "execution_count": 56,
     "metadata": {},
     "output_type": "execute_result"
    },
    {
     "data": {
      "image/png": "[encoded data removed]",
      "text/plain": [
       "<Figure size 640x480 with 1 Axes>"
      ]
     },
     "metadata": {},
     "output_type": "display_data"
    }
   ],
   "source": [
    "industry_freq = df[INDUSTRY].value_counts()\n",
    "ax = industry_freq.plot.barh(title='Which of the following best describes your industry?')\n",
    "ax.set_xlabel('Frequency')\n",
    "ax.set_ylabel('Industry')"
   ]
  },
  {
   "cell_type": "markdown",
   "metadata": {},
   "source": [
    "### TODO: Make a histogram for the question: _Which of the following best describes your current occupation?_"
   ]
  },
  {
   "cell_type": "code",
   "execution_count": 55,
   "metadata": {
    "scrolled": true
   },
   "outputs": [
    {
     "data": {
      "text/plain": [
       "Text(0, 0.5, 'Occupation')"
      ]
     },
     "execution_count": 55,
     "metadata": {},
     "output_type": "execute_result"
    },
    {
     "data": {
      "image/png": "[encoded data removed]",
      "text/plain": [
       "<Figure size 640x480 with 1 Axes>"
      ]
     },
     "metadata": {},
     "output_type": "display_data"
    }
   ],
   "source": [
    "occupation_freq = df[OCCUPATION].value_counts()\n",
    "ax = occupation_freq.plot.barh(title='Which of the following best describes your current occupation?')\n",
    "ax.set_xlabel('Frequency')\n",
    "ax.set_ylabel('Occupation')"
   ]
  },
  {
   "cell_type": "markdown",
   "metadata": {},
   "source": [
    "### Making a scatterplot\n",
    "\n",
    "Finally, let's make a scatterplot to compare the year born with the percentage of time WFH."
   ]
  },
  {
   "cell_type": "code",
   "execution_count": 67,
   "metadata": {
    "scrolled": true
   },
   "outputs": [
    {
     "data": {
      "image/png": "[encoded data removed]",
      "text/plain": [
       "<Figure size 640x480 with 1 Axes>"
      ]
     },
     "metadata": {},
     "output_type": "display_data"
    }
   ],
   "source": [
    "data = df[[YEAR_BORN,PERCENTAGE_WFH_LAST_YEAR]]\n",
    "data[PERCENTAGE_WFH_LAST_YEAR] = data[PERCENTAGE_WFH_LAST_YEAR].str.rstrip('%').astype('float')\n",
    "data_sorted = data.sort_values(by=YEAR_BORN)\n",
    "\n",
    "plt.scatter( data_sorted[YEAR_BORN], data_sorted[PERCENTAGE_WFH_LAST_YEAR], s=20)\n",
    "plt.title('Year born vs Percentage WFH')\n",
    "plt.xlabel('Year born')\n",
    "plt.ylabel('Percentage')\n",
    "plt.show()"
   ]
  },
  {
   "cell_type": "markdown",
   "metadata": {},
   "source": [
    "## BONUS: Exploring other plotting options and customisation\n",
    "\n",
    "If you would like to explore more plotting options, we recommend you visit the `seaborn` tutorial here https://seaborn.pydata.org/tutorial.html\n",
    "\n",
    "You will find multiple plotting options and will learn how to edit your plot to your liking. Here, we show you some examples of what you can achieve by using the `seaborn` library."
   ]
  },
  {
   "cell_type": "code",
   "execution_count": 58,
   "metadata": {},
   "outputs": [
    {
     "name": "stderr",
     "output_type": "stream",
     "text": [
      "C:\\Users\\Daniela.Rivas\\Downloads\\Anaconda\\Lib\\site-packages\\seaborn\\axisgrid.py:118: UserWarning: The figure layout has changed to tight\n",
      "  self._figure.tight_layout(*args, **kwargs)\n",
      "C:\\Users\\Daniela.Rivas\\Downloads\\Anaconda\\Lib\\site-packages\\seaborn\\axisgrid.py:118: UserWarning: The figure layout has changed to tight\n",
      "  self._figure.tight_layout(*args, **kwargs)\n"
     ]
    },
    {
     "data": {
      "image/png": "[encoded data removed]",
      "text/plain": [
       "<Figure size 580x500 with 1 Axes>"
      ]
     },
     "metadata": {},
     "output_type": "display_data"
    }
   ],
   "source": [
    "import numpy as np\n",
    "import seaborn as sns\n",
    "import matplotlib.pyplot as plt\n",
    "\n",
    "sns.set_theme(color_codes=True)\n",
    "tips = sns.load_dataset(\"tips\")\n",
    "sns.lmplot(x=\"total_bill\", y=\"tip\", hue=\"smoker\", data=tips, markers=[\"o\", \"x\"], palette=\"Set1\");"
   ]
  },
  {
   "cell_type": "markdown",
   "metadata": {},
   "source": [
    " ## EXERCISE 5: Boxplot and Correlation\n",
    "\n",
    "### Draw a boxplot for year born\n",
    "\n",
    "Mean and standard deviation are not informative for skewed data. `boxplot` is is a good visualisation for viewing and comparing distributions. It also shows outliers, e.g., values greater than `Q3+1.5*IQR` or less than `Q1-1.5*IQR`."
   ]
  },
  {
   "cell_type": "code",
   "execution_count": 59,
   "metadata": {},
   "outputs": [
    {
     "data": {
      "image/png": "[encoded data removed]",
      "text/plain": [
       "<Figure size 1000x700 with 1 Axes>"
      ]
     },
     "metadata": {},
     "output_type": "display_data"
    }
   ],
   "source": [
    "from datetime import datetime, date\n",
    "\n",
    "\n",
    "data = df[YEAR_BORN].dropna().to_list()\n",
    "\n",
    "def birthdate_to_age(born):\n",
    "    #get today's date\n",
    "    today = date.today()\n",
    "    return int(today.year - born.year - ((today.month,\n",
    "                                          today.day) < (born.month,\n",
    "                                                        born.day)))\n",
    "\n",
    "age_list = [birthdate_to_age(b) for b in data]\n",
    "\n",
    "fig = plt.figure(figsize =(10, 7))\n",
    "plt.boxplot(age_list)\n",
    "plt.title('Distribution of Age')\n",
    "plt.show()"
   ]
  },
  {
   "cell_type": "markdown",
   "metadata": {},
   "source": [
    "### Calculate correlation between two variables\n",
    "\n",
    "Scipy includes various correlation statistics​\n",
    "\n",
    "- Pearson’s r for two normally distributed variables​: stats.pearsonr()\n",
    "\n",
    "- Spearman’s rho for ratio data, ordinal data, etc (rank-order correlation): stats.spearmanr()"
   ]
  },
  {
   "cell_type": "code",
   "execution_count": 60,
   "metadata": {},
   "outputs": [
    {
     "name": "stdout",
     "output_type": "stream",
     "text": [
      "SignificanceResult(statistic=0.03514984077998032, pvalue=0.17291319443568165)\n"
     ]
    }
   ],
   "source": [
    "from scipy import stats\n",
    "\n",
    "# only keep rows where both year born and percentage wfh last year are defined\n",
    "data = df[[YEAR_BORN,PERCENTAGE_WFH_LAST_YEAR]].dropna()\n",
    "\n",
    "year_born = data[YEAR_BORN]\n",
    "precent_wfh = data[PERCENTAGE_WFH_LAST_YEAR]\n",
    "\n",
    "print(stats.spearmanr(year_born, precent_wfh)) "
   ]
  },
  {
   "cell_type": "markdown",
   "metadata": {},
   "source": [
    "# End of Exercise. Many Thanks."
   ]
  }
 ],
 "metadata": {
  "kernelspec": {
   "display_name": "Python 3 (ipykernel)",
   "language": "python",
   "name": "python3"
  },
  "language_info": {
   "codemirror_mode": {
    "name": "ipython",
    "version": 3
   },
   "file_extension": ".py",
   "mimetype": "text/x-python",
   "name": "python",
   "nbconvert_exporter": "python",
   "pygments_lexer": "ipython3",
   "version": "3.11.5"
  },
  "vscode": {
   "interpreter": {
    "hash": "f64141119dd496527b87473b8ebe788f11b9494f1fcdf33af43c3720a0f3b587"
   }
  }
 },
 "nbformat": 4,
 "nbformat_minor": 4
}
