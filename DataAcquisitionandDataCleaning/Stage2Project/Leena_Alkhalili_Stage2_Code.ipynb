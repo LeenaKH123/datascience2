{
 "cells": [
  {
   "cell_type": "markdown",
   "metadata": {},
   "source": [
    "Project stage 1 review remark 1: Handling NaN values\n",
    "The cleaned dataset has 11 customers with null TotalCharges.\n",
    "All 11 customers with missing TotalCharges have a tenure of 0, meaning they are new customers who likely haven’t been billed yet.\n",
    "The best solution is to fill the missing TotalCharges with 0, as it accurately reflects that they haven't accumulated charges yet."
   ]
  },
  {
   "cell_type": "code",
   "execution_count": 1,
   "metadata": {},
   "outputs": [],
   "source": [
    "import pandas as pd\n",
    "\n",
    "# Load the CSV file\n",
    "df = pd.read_csv(\"Telco-Customer-Churn-Cleaned.csv\")\n",
    "\n",
    "# Fill missing values in 'TotalCharges' with 0\n",
    "df['TotalCharges'] = df['TotalCharges'].fillna(0)\n",
    "\n",
    "# ensure correct data type for 'TotalCharges'\n",
    "df['TotalCharges'] = pd.to_numeric(df['TotalCharges'], errors='coerce')\n",
    "\n",
    "# Save the updated DataFrame back to the same or new CSV file\n",
    "df.to_csv(\"Telco-Customer-Churn-Cleaned-Updated.csv\", index=False)\n"
   ]
  },
  {
   "cell_type": "markdown",
   "metadata": {},
   "source": [
    "Project Stage 1 review remark 2:Formatting issues, such as typing errors or multiple ways to identify the same variable, were not checked. In the below section Im checking for Formatting and Consistency Issues\n"
   ]
  },
  {
   "cell_type": "code",
   "execution_count": 2,
   "metadata": {},
   "outputs": [
    {
     "name": "stdout",
     "output_type": "stream",
     "text": [
      "=== Unique Values in Categorical Columns ===\n",
      "customerID: ['7590-VHVEG' '5575-GNVDE' '3668-QPYBK' ... '4801-JZAZL' '8361-LTMKD'\n",
      " '3186-AJIEK']\n",
      "gender: ['Female' 'Male']\n",
      "Partner: ['Yes' 'No']\n",
      "Dependents: ['No' 'Yes']\n",
      "PhoneService: ['No' 'Yes']\n",
      "MultipleLines: ['No phone service' 'No' 'Yes']\n",
      "InternetService: ['DSL' 'Fiber optic' 'No']\n",
      "OnlineSecurity: ['No' 'Yes' 'No internet service']\n",
      "OnlineBackup: ['Yes' 'No' 'No internet service']\n",
      "DeviceProtection: ['No' 'Yes' 'No internet service']\n",
      "TechSupport: ['No' 'Yes' 'No internet service']\n",
      "StreamingTV: ['No' 'Yes' 'No internet service']\n",
      "StreamingMovies: ['No' 'Yes' 'No internet service']\n",
      "Contract: ['Month-to-month' 'One year' 'Two year']\n",
      "PaperlessBilling: ['Yes' 'No']\n",
      "PaymentMethod: ['Electronic check' 'Mailed check' 'Bank transfer (automatic)'\n",
      " 'Credit card (automatic)']\n",
      "Churn: ['No' 'Yes']\n",
      "\n",
      "=== Columns Likely to Contain Inconsistent 'No <service>' Values ===\n",
      "MultipleLines → ['No phone service' 'No' 'Yes']\n",
      "OnlineSecurity → ['No' 'Yes' 'No internet service']\n",
      "OnlineBackup → ['Yes' 'No' 'No internet service']\n",
      "DeviceProtection → ['No' 'Yes' 'No internet service']\n",
      "TechSupport → ['No' 'Yes' 'No internet service']\n",
      "StreamingTV → ['No' 'Yes' 'No internet service']\n",
      "StreamingMovies → ['No' 'Yes' 'No internet service']\n",
      "\n",
      "=== Checking if 'SeniorCitizen' is Binary Categorical ===\n",
      "✔ 'SeniorCitizen' is numeric but categorical (0/1)\n",
      "\n",
      "=== TotalCharges Type & Missing Check ===\n",
      "Data type: float64\n",
      "Missing values: 11\n",
      "\n",
      "=== Inconsistent Formatting (Case/Whitespace) ===\n"
     ]
    }
   ],
   "source": [
    "import pandas as pd\n",
    "\n",
    "# Load the dataset\n",
    "df = pd.read_csv(\"Telco-Customer-Churn-Cleaned.csv\")\n",
    "\n",
    "# 1. Get all object (categorical) columns\n",
    "cat_columns = df.select_dtypes(include='object').columns\n",
    "\n",
    "# 2. Check for inconsistent string values (capitalisation, whitespace, variants)\n",
    "print(\"=== Unique Values in Categorical Columns ===\")\n",
    "for col in cat_columns:\n",
    "    unique_vals = df[col].unique()\n",
    "    print(f\"{col}: {unique_vals}\")\n",
    "\n",
    "# 3. Check for known variants that should be standardized\n",
    "columns_to_check_variants = [\n",
    "    'MultipleLines', 'OnlineSecurity', 'OnlineBackup',\n",
    "    'DeviceProtection', 'TechSupport', 'StreamingTV', 'StreamingMovies'\n",
    "]\n",
    "\n",
    "print(\"\\n=== Columns Likely to Contain Inconsistent 'No <service>' Values ===\")\n",
    "for col in columns_to_check_variants:\n",
    "    if col in df.columns:\n",
    "        values = df[col].unique()\n",
    "        if any(\"No \" in str(v) for v in values):\n",
    "            print(f\"{col} → {values}\")\n",
    "\n",
    "# 4. Check if 'SeniorCitizen' is numeric but only has 0 or 1\n",
    "print(\"\\n=== Checking if 'SeniorCitizen' is Binary Categorical ===\")\n",
    "if df['SeniorCitizen'].nunique() == 2 and set(df['SeniorCitizen'].unique()) == {0, 1}:\n",
    "    print(\"✔ 'SeniorCitizen' is numeric but categorical (0/1)\")\n",
    "\n",
    "# 5. Check 'TotalCharges' data type and missing values\n",
    "print(\"\\n=== TotalCharges Type & Missing Check ===\")\n",
    "print(f\"Data type: {df['TotalCharges'].dtype}\")\n",
    "missing_count = df['TotalCharges'].isna().sum()\n",
    "print(f\"Missing values: {missing_count}\")\n",
    "\n",
    "# 6. Detect strings with inconsistent case or whitespace\n",
    "print(\"\\n=== Inconsistent Formatting (Case/Whitespace) ===\")\n",
    "for col in cat_columns:\n",
    "    cleaned = df[col].astype(str).str.strip().str.lower()\n",
    "    unique_cleaned = cleaned.unique()\n",
    "    if len(unique_cleaned) < len(df[col].unique()):\n",
    "        print(f\"{col} has inconsistent formatting (case or whitespace)\")\n"
   ]
  },
  {
   "cell_type": "markdown",
   "metadata": {},
   "source": [
    "Fix all identified issues"
   ]
  },
  {
   "cell_type": "code",
   "execution_count": null,
   "metadata": {},
   "outputs": [
    {
     "name": "stdout",
     "output_type": "stream",
     "text": [
      "✔ Dataset cleaned and saved as 'Telco-Customer-Churn-Cleaned-Final.csv'\n"
     ]
    }
   ],
   "source": [
    "import pandas as pd\n",
    "\n",
    "\n",
    "df = pd.read_csv(\"Telco-Customer-Churn-Cleaned.csv\")\n",
    "\n",
    "# 1. Replace 'No internet service' and 'No phone service' with 'No'\n",
    "columns_with_variants = [\n",
    "    'MultipleLines', 'OnlineSecurity', 'OnlineBackup',\n",
    "    'DeviceProtection', 'TechSupport', 'StreamingTV', 'StreamingMovies'\n",
    "]\n",
    "\n",
    "for col in columns_with_variants:\n",
    "    df[col] = df[col].replace({'No internet service': 'No', 'No phone service': 'No'})\n",
    "\n",
    "# 2. Standardize string values across all object columns (strip whitespace, lowercasing optional)\n",
    "object_cols = df.select_dtypes(include='object').columns\n",
    "for col in object_cols:\n",
    "    df[col] = df[col].astype(str).str.strip()\n",
    "\n",
    "# 3. Convert 'SeniorCitizen' to category if needed\n",
    "df['SeniorCitizen'] = df['SeniorCitizen'].astype('category')\n",
    "\n",
    "# 4. Ensure 'TotalCharges' is numeric and fill missing values with 0 (valid for tenure == 0)\n",
    "df['TotalCharges'] = pd.to_numeric(df['TotalCharges'], errors='coerce')\n",
    "df['TotalCharges'] = df['TotalCharges'].fillna(0)\n",
    "\n",
    "# 5. Save the cleaned dataset to a new CSV file\n",
    "df.to_csv(\"Telco-Customer-Churn-Cleaned-Final.csv\", index=False)\n",
    "\n",
    "print(\"✔ Dataset cleaned and saved as 'Telco-Customer-Churn-Cleaned-Final.csv'\")\n"
   ]
  },
  {
   "cell_type": "markdown",
   "metadata": {},
   "source": [
    "All \"No internet service\" and \"No phone service\" → replaced with \"No\"\n",
    "\n",
    "All text columns are stripped of extra whitespace\n",
    "\n",
    "SeniorCitizen is treated as categorical ( 0/1 flags)\n",
    "\n",
    "TotalCharges is converted to float and missing values filled with 0"
   ]
  },
  {
   "cell_type": "markdown",
   "metadata": {},
   "source": [
    "Project stage 1 review remark 3: Data schema is not clearly outlined. In the below section i outline the data schema"
   ]
  },
  {
   "cell_type": "code",
   "execution_count": 4,
   "metadata": {},
   "outputs": [
    {
     "name": "stdout",
     "output_type": "stream",
     "text": [
      "              Column Data Type  Non-Null Count  Unique Values  \\\n",
      "0         customerID    object            7043           7043   \n",
      "1             gender    object            7043              2   \n",
      "2      SeniorCitizen     int64            7043              2   \n",
      "3            Partner    object            7043              2   \n",
      "4         Dependents    object            7043              2   \n",
      "5             tenure     int64            7043             73   \n",
      "6       PhoneService    object            7043              2   \n",
      "7      MultipleLines    object            7043              3   \n",
      "8    InternetService    object            7043              3   \n",
      "9     OnlineSecurity    object            7043              3   \n",
      "10      OnlineBackup    object            7043              3   \n",
      "11  DeviceProtection    object            7043              3   \n",
      "12       TechSupport    object            7043              3   \n",
      "13       StreamingTV    object            7043              3   \n",
      "14   StreamingMovies    object            7043              3   \n",
      "15          Contract    object            7043              3   \n",
      "16  PaperlessBilling    object            7043              2   \n",
      "17     PaymentMethod    object            7043              4   \n",
      "18    MonthlyCharges   float64            7043           1585   \n",
      "19      TotalCharges   float64            7032           6530   \n",
      "20             Churn    object            7043              2   \n",
      "\n",
      "                                          Description  \n",
      "0                          Unique customer identifier  \n",
      "1                              Gender of the customer  \n",
      "2                          1 = Senior, 0 = Non-senior  \n",
      "3         Whether the customer has a partner (Yes/No)  \n",
      "4        Whether the customer has dependents (Yes/No)  \n",
      "5            Number of months the customer has stayed  \n",
      "6              Whether the customer has phone service  \n",
      "7       Whether the customer has multiple phone lines  \n",
      "8             Type of internet service (DSL/Fiber/No)  \n",
      "9    Whether the customer has online security service  \n",
      "10     Whether the customer has online backup service  \n",
      "11         Whether the customer has device protection  \n",
      "12      Whether the customer has tech support service  \n",
      "13      Whether the customer has streaming TV service  \n",
      "14  Whether the customer has streaming movies service  \n",
      "15  Contract term (Month-to-month, One year, Two y...  \n",
      "16        Whether the customer uses paperless billing  \n",
      "17                          Customer's payment method  \n",
      "18             Monthly amount charged to the customer  \n",
      "19               Total amount charged to the customer  \n",
      "20          Whether the customer has churned (Yes/No)  \n"
     ]
    }
   ],
   "source": [
    "import pandas as pd\n",
    "\n",
    "\n",
    "df = pd.read_csv(\"Telco-Customer-Churn-Cleaned.csv\")\n",
    "\n",
    "# Column descriptions \n",
    "column_descriptions = {\n",
    "    'customerID': 'Unique customer identifier',\n",
    "    'gender': 'Gender of the customer',\n",
    "    'SeniorCitizen': '1 = Senior, 0 = Non-senior',\n",
    "    'Partner': 'Whether the customer has a partner (Yes/No)',\n",
    "    'Dependents': 'Whether the customer has dependents (Yes/No)',\n",
    "    'tenure': 'Number of months the customer has stayed',\n",
    "    'PhoneService': 'Whether the customer has phone service',\n",
    "    'MultipleLines': 'Whether the customer has multiple phone lines',\n",
    "    'InternetService': 'Type of internet service (DSL/Fiber/No)',\n",
    "    'OnlineSecurity': 'Whether the customer has online security service',\n",
    "    'OnlineBackup': 'Whether the customer has online backup service',\n",
    "    'DeviceProtection': 'Whether the customer has device protection',\n",
    "    'TechSupport': 'Whether the customer has tech support service',\n",
    "    'StreamingTV': 'Whether the customer has streaming TV service',\n",
    "    'StreamingMovies': 'Whether the customer has streaming movies service',\n",
    "    'Contract': 'Contract term (Month-to-month, One year, Two year)',\n",
    "    'PaperlessBilling': 'Whether the customer uses paperless billing',\n",
    "    'PaymentMethod': 'Customer\\'s payment method',\n",
    "    'MonthlyCharges': 'Monthly amount charged to the customer',\n",
    "    'TotalCharges': 'Total amount charged to the customer',\n",
    "    'Churn': 'Whether the customer has churned (Yes/No)'\n",
    "}\n",
    "\n",
    "# Schema table\n",
    "schema_df = pd.DataFrame({\n",
    "    \"Column\": df.columns,\n",
    "    \"Data Type\": df.dtypes.values,\n",
    "    \"Non-Null Count\": df.notnull().sum().values,\n",
    "    \"Unique Values\": [df[col].nunique() for col in df.columns],\n",
    "    \"Description\": [column_descriptions.get(col, \"\") for col in df.columns]\n",
    "})\n",
    "\n",
    "# Print the table\n",
    "print(schema_df)\n",
    "\n",
    "\n",
    "schema_df.to_csv(\"data_schema.csv\", index=False)\n"
   ]
  }
 ],
 "metadata": {
  "kernelspec": {
   "display_name": "myenv",
   "language": "python",
   "name": "python3"
  },
  "language_info": {
   "codemirror_mode": {
    "name": "ipython",
    "version": 3
   },
   "file_extension": ".py",
   "mimetype": "text/x-python",
   "name": "python",
   "nbconvert_exporter": "python",
   "pygments_lexer": "ipython3",
   "version": "3.12.9"
  }
 },
 "nbformat": 4,
 "nbformat_minor": 2
}
