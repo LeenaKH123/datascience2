{
 "cells": [
  {
   "cell_type": "markdown",
   "metadata": {},
   "source": [
    "# Hypothesis testing and evaluation"
   ]
  },
  {
   "cell_type": "markdown",
   "metadata": {
    "collapsed": true
   },
   "source": [
    "## EXERCISE: Comparing layouts\n",
    "\n",
    "### Experimental setup\n",
    "\n",
    "*Problem*: Find out which version of a display is better.\n",
    "\n",
    "*Question*: Do users prefer Grid view?\n",
    "\n",
    "*Null hypothesis*: Users do not prefer Grid view."
   ]
  },
  {
   "cell_type": "markdown",
   "metadata": {},
   "source": [
    "### Create ratings data\n",
    "\n",
    "We assume different subject groups for each conditions. Each subject sees one of the layouts and is asked to rate on a 5-point Likert scale how strongly the agree or disagree with the statement:\n",
    "\n",
    "> Page gives a good overview.\n",
    "> \n",
    "> 1=strongly agree; 2=agree; 3=neutral; 4=disagree; 5=strongly disagree\n",
    "\n",
    "G_data corresponds to ratings from users that see the grid view. L_data corresponds to ratings from users that see the list view."
   ]
  },
  {
   "cell_type": "code",
   "execution_count": 28,
   "metadata": {},
   "outputs": [
    {
     "name": "stdout",
     "output_type": "stream",
     "text": [
      "Grid median: 2.5\n",
      "List median: 4.0\n"
     ]
    }
   ],
   "source": [
    "from scipy import stats\n",
    "import numpy as np\n",
    "G_data = [1, 3, 3, 2, 4, 2, 3, 3, 1, 5, 2, 3, 4, 2, 1, 3, 2, 2, 1, 3,\n",
    "          2, 3, 4, 2, 1, 3, 2, 2, 1, 3, 1, 3, 3, 2, 4, 2, 3, 3, 1, 5]\n",
    "L_data = [4, 5, 2, 4, 4, 3, 5, 4, 3, 5, 1, 4, 5, 3, 4, 4, 2, 3, 4, 5,\n",
    "          1, 4, 5, 3, 4, 4, 2, 3, 4, 5, 4, 5, 2, 4, 4, 3, 5, 4, 3, 5]\n",
    "print('Grid median:', np.median(G_data))\n",
    "print('List median:', np.median(L_data))"
   ]
  },
  {
   "cell_type": "markdown",
   "metadata": {},
   "source": [
    "### Visualise ratings data"
   ]
  },
  {
   "cell_type": "code",
   "execution_count": 29,
   "metadata": {},
   "outputs": [
    {
     "data": {
      "image/png": "[encoded data removed]",
      "text/plain": [
       "<Figure size 640x480 with 1 Axes>"
      ]
     },
     "metadata": {},
     "output_type": "display_data"
    }
   ],
   "source": [
    "%matplotlib inline\n",
    "from collections import Counter\n",
    "import matplotlib.pyplot as plt\n",
    "\n",
    "def count(data):\n",
    "    c = Counter(data)\n",
    "    return list(c.keys()), list(c.values())\n",
    "\n",
    "G_bins, G_freqs = count(G_data)\n",
    "L_bins, L_freqs = count(L_data)\n",
    "bar_width = 0.35\n",
    "\n",
    "_ = plt.bar([b-bar_width for b in G_bins], G_freqs, bar_width, color='blue', label='Grid')\n",
    "_ = plt.bar(L_bins, L_freqs, bar_width, color='purple', label='List')\n",
    "\n",
    "plt.xlim(0.5, 5.5)\n",
    "plt.ylim(0,20)\n",
    "_ = plt.legend()"
   ]
  },
  {
   "cell_type": "markdown",
   "metadata": {},
   "source": [
    "### TODO Test whether list is preferred\n",
    "\n",
    "- Can we reject the null hypothesis at p<0.01 using the Mann-Whitney U test?\n",
    "- Do users prefer list view?"
   ]
  },
  {
   "cell_type": "code",
   "execution_count": 30,
   "metadata": {},
   "outputs": [
    {
     "name": "stdout",
     "output_type": "stream",
     "text": [
      "MannwhitneyuResult(statistic=354.0, pvalue=5.481091669449934e-06)\n",
      "pvalue: 0.000005 Rejected? True\n"
     ]
    }
   ],
   "source": [
    "# TODO: replace the content of this cell with your Python solution\n",
    "'''\n",
    "Question: Do users prefer Grid view?\n",
    "Null hypothesis:  Users do not prefer Grid view.\n",
    "(the distribution underlying sample G_data is not less \n",
    "than the distribution underlying sample L_data)\n",
    "'''\n",
    "result = stats.mannwhitneyu(G_data, L_data, alternative = \"less\") \n",
    "print(result)\n",
    "print('pvalue: {:.6f}'.format(result.pvalue), 'Rejected?', bool(result.pvalue < 0.01))\n",
    "\n",
    "# https://docs.scipy.org/doc/scipy/reference/generated/scipy.stats.mannwhitneyu.html"
   ]
  },
  {
   "cell_type": "markdown",
   "metadata": {},
   "source": [
    "### TODO p-hacking example\n",
    "\n",
    "Imagine we instead measured average monthly spend. Let's assume a sample of 1000 grid users spend 155 on average with standard deviation 40, and a sample of 1000 list users spend 150 on average with standard deviation 40."
   ]
  },
  {
   "cell_type": "code",
   "execution_count": 31,
   "metadata": {},
   "outputs": [],
   "source": [
    "\n",
    "N = 1000\n",
    "G_mu, G_sigma = 155, 40\n",
    "L_mu, L_sigma = 150, 40\n",
    "\n",
    "def run_experiment():\n",
    "    G_spend = np.random.normal(G_mu, G_sigma, N)\n",
    "    L_spend = np.random.normal(L_mu, L_sigma, N)\n",
    "    return stats.ttest_ind(G_spend, L_spend).pvalue*0.5 # one-tailed for testing G_mu > L_mu\n",
    "# ttest: https://docs.scipy.org/doc/scipy/reference/generated/scipy.stats.ttest_ind.html#scipy.stats.ttest_ind\n"
   ]
  },
  {
   "cell_type": "markdown",
   "metadata": {},
   "source": [
    "- Run 1000 experiments\n",
    "- For what percentage of experiments do we fail to reject the null hypothesis at 0.05?\n",
    "- Do your neighbours get the same percentage?\n",
    "- How can we avoid false rejections?"
   ]
  },
  {
   "cell_type": "code",
   "execution_count": 32,
   "metadata": {},
   "outputs": [
    {
     "name": "stdout",
     "output_type": "stream",
     "text": [
      "12.7\n"
     ]
    }
   ],
   "source": [
    "# TODO: replace the content of this cell with your Python solution\n",
    "M = 1000\n",
    "pvalues = []\n",
    "for i in range(M):\n",
    "    pvalues.append(run_experiment())\n",
    "\n",
    "alpha = 0.05\n",
    "pvalue_pres = 100*sum([1 if p > alpha else 0 for p in pvalues])/M\n",
    "print(pvalue_pres)"
   ]
  },
  {
   "cell_type": "markdown",
   "metadata": {},
   "source": [
    "Around 12.5 % of experiment fail to reject the null hypothesis at 0.05. Execute everytime get different results because using random function in run_experiment(). If we want to see a more stable and reliable number, and avoid the false rejections, the number of experiment should increase."
   ]
  },
  {
   "cell_type": "code",
   "execution_count": 33,
   "metadata": {},
   "outputs": [
    {
     "name": "stdout",
     "output_type": "stream",
     "text": [
      "13.0\n"
     ]
    }
   ],
   "source": [
    "M = 10000\n",
    "pvalues = []\n",
    "for i in range(M):\n",
    "    pvalues.append(run_experiment())\n",
    "\n",
    "alpha = 0.05\n",
    "pvalue_pres = 100*sum([1 if p > alpha else 0 for p in pvalues])/M\n",
    "print(pvalue_pres)"
   ]
  },
  {
   "cell_type": "markdown",
   "metadata": {},
   "source": [
    "## *STOP PLEASE. THE FOLLOWING IS FOR THE NEXT EXERCISE. THANKS.*"
   ]
  },
  {
   "cell_type": "markdown",
   "metadata": {},
   "source": [
    "## EXERCISE: Comparing mobile behaviour\n",
    "\n",
    "### Experimental setup\n",
    "\n",
    "Adapted from http://www.beefissuesquarterly.com/beefissuesquarterly.aspx?id=4078.\n",
    "\n",
    "*Problem*: Find out whether there is a difference in mobile behaviour between generations.\n",
    "\n",
    "*Question*: Is there any difference between groups?\n",
    "\n",
    "*Null hypothesis*: Group means are the same."
   ]
  },
  {
   "cell_type": "markdown",
   "metadata": {},
   "source": [
    "### Generate generation data\n",
    "\n",
    "Imagine we conducted a survey of 200 baby boomers (born 1945-1960), 200 generation xers (born 1961-1980) and 200 millennials (born 1981-1995).\n",
    "\n",
    "For the purposes of this exercise, let's generate some simulated samples. We assume:\n",
    "- Boomers send 5 texts per day on average with standard deviation 2;\n",
    "- GenXers send 12 texts per day on average with standard deviation 3;\n",
    "- Millennials send 20 texts per day on average with standard deviation 5.\n",
    "\n",
    "We use `numpy.random.normal` to generate random values from a normal distribution with these parameters"
   ]
  },
  {
   "cell_type": "code",
   "execution_count": 34,
   "metadata": {},
   "outputs": [],
   "source": [
    "import numpy as np\n",
    "N = 200\n",
    "B_mu, B_sigma = 5, 2\n",
    "X_mu, X_sigma = 12, 3\n",
    "M_mu, M_sigma = 20, 5\n",
    "B_data = [int(round(n)) for n in np.random.normal(B_mu, B_sigma, N)]\n",
    "X_data = [int(round(n)) for n in np.random.normal(X_mu, X_sigma, N)]\n",
    "M_data = [int(round(n)) for n in np.random.normal(M_mu, M_sigma, N)]"
   ]
  },
  {
   "cell_type": "markdown",
   "metadata": {},
   "source": [
    "### Visualise generation data\n",
    "\n",
    "Let's use the `matplotlib.pyplot.hist` function to plot our visualise our three distributions."
   ]
  },
  {
   "cell_type": "code",
   "execution_count": 53,
   "metadata": {},
   "outputs": [
    {
     "data": {
      "image/png": "[encoded data removed]",
      "text/plain": [
       "<Figure size 640x480 with 1 Axes>"
      ]
     },
     "metadata": {},
     "output_type": "display_data"
    }
   ],
   "source": [
    "%matplotlib inline\n",
    "import matplotlib.pyplot as plt\n",
    "import matplotlib.patches as mpatches\n",
    "start,end,n_bins = 0,30,30\n",
    "_,_,_ = plt.hist(B_data, bins=n_bins, range=(start,end), color='blue', alpha=0.5)\n",
    "_,_,_ = plt.hist(X_data, bins=n_bins, range=(start,end), color='purple', alpha=0.5)\n",
    "_,_,_ = plt.hist(M_data, bins=n_bins, range=(start,end), color='red', alpha=0.5)\n",
    "_ = plt.legend(handles=[mpatches.Patch(color='blue', label='Boomers'),\n",
    "                    mpatches.Patch(color='purple', label='GenXers'),\n",
    "                    mpatches.Patch(color='red', label='Millennials')])\n",
    "_ = plt.xlabel('Number of texts per day (t)')\n",
    "_ = plt.ylabel('Number of responses for t')"
   ]
  },
  {
   "cell_type": "markdown",
   "metadata": {},
   "source": [
    "### TODO Test for differences\n",
    "\n",
    "- Use one-way analysis of variance (ANOVA) to test whether the sample means are the same.\n",
    "- Can we reject the null hypothesis at p<0.01?\n",
    "- Is there a reliable difference in texting behaviour between generations?"
   ]
  },
  {
   "cell_type": "code",
   "execution_count": 36,
   "metadata": {},
   "outputs": [
    {
     "name": "stdout",
     "output_type": "stream",
     "text": [
      "True\n"
     ]
    }
   ],
   "source": [
    "from scipy import stats\n",
    "anova_result = stats.f_oneway(B_data, X_data, M_data)\n",
    "print(bool(anova_result.pvalue < 0.01))\n",
    "\n",
    "# https://docs.scipy.org/doc/scipy/reference/generated/scipy.stats.f_oneway.html#scipy.stats.f_oneway"
   ]
  },
  {
   "cell_type": "markdown",
   "metadata": {},
   "source": [
    "### TODO Check ANOVA assumptions\n",
    "\n",
    "- Does our data meet the assumptions for a one-way ANOVA?\n",
    "- Can we reject the null hypothesis using the Kruskall-Wallis H-test?\n",
    "- Is there a reliable difference in texting behaviour between generations?"
   ]
  },
  {
   "cell_type": "code",
   "execution_count": 37,
   "metadata": {},
   "outputs": [
    {
     "data": {
      "text/plain": [
       "True"
      ]
     },
     "execution_count": 37,
     "metadata": {},
     "output_type": "execute_result"
    }
   ],
   "source": [
    "# TODO: replace the content of this cell with your Python solution\n",
    "'''\n",
    "one-way ANOVA assumptions:\n",
    "–The samples are independent\n",
    "–Populations are normally distributed\n",
    "–Standard deviations are equal\n",
    "'''\n",
    "\n",
    "'''\n",
    "kruskal assumption: \n",
    "doesn’t assume your data comes from a particular distribution such as \n",
    "normal distribution.\n",
    "'''\n",
    "stats.kruskal(B_data, X_data, M_data).pvalue < 0.01\n",
    "\n",
    "# https://docs.scipy.org/doc/scipy/reference/generated/scipy.stats.kruskal.html#scipy.stats.kruskal\n"
   ]
  },
  {
   "cell_type": "markdown",
   "metadata": {},
   "source": [
    "### TODO Further generation exercises\n",
    "\n",
    "Imagine we wanted to compare millennials to generation z (born since 1996). Let's assume this population sends 21 texts per day on average with standard deviation 5.\n",
    "\n",
    "- Generate a simulated sample Z_data.\n",
    "- What test should we use?\n",
    "- Is there a reliable difference in texting behaviour between millennials and generation Z?"
   ]
  },
  {
   "cell_type": "code",
   "execution_count": 38,
   "metadata": {},
   "outputs": [],
   "source": [
    "# TODO: replace the content of this cell with your Python solution\n",
    "Z_mu, Z_sigma = 21, 5\n",
    "Z_data = [int(round(n)) for n in np.random.normal(Z_mu, Z_sigma, N)]"
   ]
  },
  {
   "cell_type": "markdown",
   "metadata": {},
   "source": [
    "H_0: There is no difference in testing behaviour between millennials and generation Z\n",
    "\n",
    "Considering we have 2 groups, each group have the same standard deviation which is 5, samples are independent, populations are normally distributed. Therefore, Unpaired Student’s t-test, Mann-Whitney U test or ANOVA, Kruskall-Wallis H-test are all acceptable."
   ]
  },
  {
   "cell_type": "code",
   "execution_count": 39,
   "metadata": {},
   "outputs": [
    {
     "data": {
      "text/plain": [
       "True"
      ]
     },
     "execution_count": 39,
     "metadata": {},
     "output_type": "execute_result"
    }
   ],
   "source": [
    "stats.kruskal(Z_data, M_data).pvalue< 0.01"
   ]
  },
  {
   "cell_type": "markdown",
   "metadata": {},
   "source": [
    "P-value is larger than 0.01, means that there is weak evidence against the null hypoethesis. Therefore, there is no difference in testing behaviour between millennials and generation Z."
   ]
  },
  {
   "cell_type": "markdown",
   "metadata": {},
   "source": [
    "## *STOP PLEASE. THE FOLLOWING IS FOR THE NEXT EXERCISE. THANKS.*"
   ]
  },
  {
   "cell_type": "markdown",
   "metadata": {},
   "source": [
    "## EXERCISE: Comparing classifiers\n",
    "\n",
    "### Experimental setup\n",
    "\n",
    "*Problem*: Determine which classifer is better.\n",
    "\n",
    "*Question*: Is my shiny, new model better?\n",
    "\n",
    "*Null hypothesis*: The new model is not better."
   ]
  },
  {
   "cell_type": "markdown",
   "metadata": {},
   "source": [
    "### Generate gold and classifier labellings\n",
    "\n",
    "We generate 10,000 gold labels, marking a approximately 20% as spam (1) based on a random number generator and the rest as ham (0)."
   ]
  },
  {
   "cell_type": "code",
   "execution_count": 54,
   "metadata": {},
   "outputs": [
    {
     "name": "stdout",
     "output_type": "stream",
     "text": [
      "Counter({0: 8000324, 1: 1999676})\n"
     ]
    }
   ],
   "source": [
    "import random\n",
    "random.random()\n",
    "N = 1000000\n",
    "GOLD_PCT_SPAM = 0.2\n",
    "Y_gold = [int(random.random()<GOLD_PCT_SPAM) for _ in range(N)]\n",
    "\n",
    "freq = Counter(Y_gold)\n",
    "print (freq)"
   ]
  },
  {
   "cell_type": "code",
   "execution_count": 41,
   "metadata": {},
   "outputs": [
    {
     "data": {
      "text/plain": [
       "True"
      ]
     },
     "execution_count": 41,
     "metadata": {},
     "output_type": "execute_result"
    }
   ],
   "source": [
    "False == 0\n",
    "True == 1"
   ]
  },
  {
   "cell_type": "markdown",
   "metadata": {},
   "source": [
    "We generate two system labellings by ranodomly flipping gold labels assuming:\n",
    "- System 1 incorrectly marks 5% of ham as spam and fails to detect 20% of actual spam,\n",
    "- System 2 incorrectly marks 10% of ham as spam and fails to detect 10% of actual spam."
   ]
  },
  {
   "cell_type": "code",
   "execution_count": 42,
   "metadata": {},
   "outputs": [
    {
     "name": "stdout",
     "output_type": "stream",
     "text": [
      "Predicted     0     1\n",
      "Actual               \n",
      "0          7639   425\n",
      "1           392  1544\n",
      "\n",
      "Predicted     0     1\n",
      "Actual               \n",
      "0          7286   778\n",
      "1           190  1746\n"
     ]
    }
   ],
   "source": [
    "import pandas as pd\n",
    "\n",
    "SYS1_ERROR_RATES = {\n",
    "    0: 0.05,  # spurious: sys1 incorrectly marks 5% of ham as spam\n",
    "    1: 0.2,   # misses: sys1 fails to detect 20% of spam\n",
    "}\n",
    "SYS2_ERROR_RATES = {\n",
    "    0: 0.1,  # spurious: sys2 incorrectly marks 10% of ham as spam\n",
    "    1: 0.1   # misses: sys2 fails to detect 10% of spam\n",
    "}\n",
    "\n",
    "def simulate_predictions(Yg, error_rates):\n",
    "    for y in Yg:\n",
    "        if random.random()<error_rates[y]:\n",
    "            yield 1-y\n",
    "        else:\n",
    "            yield y\n",
    "\n",
    "Y_sys1 = list(simulate_predictions(Y_gold, SYS1_ERROR_RATES))\n",
    "Y_sys2 = list(simulate_predictions(Y_gold, SYS2_ERROR_RATES))\n",
    "\n",
    "y_actu = pd.Series(Y_gold, name='Actual')\n",
    "y_pred_s1 = pd.Series(Y_sys1, name='Predicted')\n",
    "y_pred_s2 = pd.Series(Y_sys2, name='Predicted')\n",
    "\n",
    "confusion_s1 = pd.crosstab(y_actu,y_pred_s1)\n",
    "print(confusion_s1)\n",
    "print()\n",
    "confusion_s2 = pd.crosstab(y_actu, y_pred_s2)\n",
    "print(confusion_s2)"
   ]
  },
  {
   "cell_type": "code",
   "execution_count": 43,
   "metadata": {},
   "outputs": [
    {
     "data": {
      "image/png": "[encoded data removed]",
      "text/plain": [
       "<Figure size 640x480 with 1 Axes>"
      ]
     },
     "metadata": {},
     "output_type": "display_data"
    }
   ],
   "source": [
    "%matplotlib inline\n",
    "import matplotlib.pyplot as plt\n",
    "from collections import Counter\n",
    "\n",
    "def class_distr(Y):\n",
    "    return zip(*sorted(Counter(Y).items()))\n",
    "\n",
    "gold_classes, gold_freqs = class_distr(Y_gold)\n",
    "sys1_classes, sys1_freqs = class_distr(Y_sys1)\n",
    "sys2_classes, sys2_freqs = class_distr(Y_sys2)\n",
    "\n",
    "bar_width = 0.2\n",
    "\n",
    "_ = plt.bar([b-(1.5*bar_width) for b in gold_classes], gold_freqs, bar_width, color='yellow', label='Gold')\n",
    "_ = plt.bar([b-(0.5*bar_width) for b in sys1_classes], sys1_freqs, bar_width, color='blue', label='Sys1')\n",
    "_ = plt.bar([b+(0.5*bar_width) for b in sys2_classes], sys2_freqs, bar_width, color='indigo', label='Sys2')\n",
    "\n",
    "plt.xticks([0,1], ['0 (ham)', '1 (spam)'])\n",
    "plt.ylabel('Number of instances per label')\n",
    "\n",
    "_ = plt.legend()"
   ]
  },
  {
   "cell_type": "markdown",
   "metadata": {},
   "source": [
    "### Split data into folds"
   ]
  },
  {
   "cell_type": "code",
   "execution_count": 44,
   "metadata": {},
   "outputs": [],
   "source": [
    "# sys1: [90, 90, ..., 91] -> 10 folds\n",
    "# sys2: [89, 87, 94, ...] -> 10 folds"
   ]
  },
  {
   "cell_type": "code",
   "execution_count": 45,
   "metadata": {},
   "outputs": [
    {
     "name": "stdout",
     "output_type": "stream",
     "text": [
      "Counter({0: 811, 1: 189})\n"
     ]
    }
   ],
   "source": [
    "import numpy as np\n",
    "NUM_FOLDS = 10\n",
    "Y_gold_folds = np.array_split(Y_gold, NUM_FOLDS)\n",
    "Y_sys1_folds = np.array_split(Y_sys1, NUM_FOLDS)\n",
    "Y_sys2_folds = np.array_split(Y_sys2, NUM_FOLDS)\n",
    "\n",
    "freq = Counter(Y_gold_folds[0])\n",
    "print (freq)"
   ]
  },
  {
   "cell_type": "markdown",
   "metadata": {},
   "source": [
    "### TODO Calculating classifier accuracy\n",
    "\n",
    "- Calculate accuracy and f1 scores on first fold.\n",
    "- Which system has higher accuracy?\n",
    "- Which system has higher f1 score?\n",
    "- Which measure has better sensitivity for comparisons?\n",
    "- Which measure would you rather report?"
   ]
  },
  {
   "cell_type": "code",
   "execution_count": 46,
   "metadata": {},
   "outputs": [
    {
     "name": "stdout",
     "output_type": "stream",
     "text": [
      "Predicted    0    1\n",
      "Actual             \n",
      "0          767   44\n",
      "1           42  147\n",
      "\n",
      "Predicted    0    1\n",
      "Actual             \n",
      "0          744   67\n",
      "1           21  168\n",
      "System 1 accuracy: 0.914\n",
      "System 2 accuracy: 0.912\n",
      "System 1 f1 score: 0.7736842105263158\n",
      "System 2 f1 score: 0.7924528301886792\n"
     ]
    }
   ],
   "source": [
    "from sklearn.metrics import accuracy_score, precision_score, recall_score, f1_score\n",
    "\n",
    "PRF_KWARGS = {\n",
    "    'pos_label': 1,     # 1 is the positive spam label\n",
    "    'average': 'binary' # evaluate p/r/f of the positive label\n",
    "}\n",
    "\n",
    "Yg0 = Y_gold_folds[0]\n",
    "Y10 = Y_sys1_folds[0] \n",
    "Y20 = Y_sys2_folds[0]\n",
    "\n",
    "y_actu = pd.Series(Yg0, name='Actual')\n",
    "y_pred_s1 = pd.Series(Y10, name='Predicted')\n",
    "y_pred_s2 = pd.Series(Y20, name='Predicted')\n",
    "confusion_s1 = pd.crosstab(y_actu ,y_pred_s1 )\n",
    "print(confusion_s1)\n",
    "print()\n",
    "confusion_s2 = pd.crosstab(y_actu, y_pred_s2 )\n",
    "print(confusion_s2)\n",
    "\n",
    "\n",
    "print(\"System 1 accuracy:\", accuracy_score(Yg0, Y10))\n",
    "print(\"System 2 accuracy:\", accuracy_score(Yg0, Y20))\n",
    "print(\"System 1 f1 score:\", f1_score(Yg0, Y10, **PRF_KWARGS))\n",
    "f1_score(Yg0, Y10, pos_label = 1, average= 'binary')\n",
    "print(\"System 2 f1 score:\", f1_score(Yg0, Y20, **PRF_KWARGS))"
   ]
  },
  {
   "cell_type": "markdown",
   "metadata": {},
   "source": [
    "- Calculate precision and recall scores on first fold.\n",
    "- Which system has higher precision?\n",
    "- Which system has higher recall?\n",
    "- Formulate precision and recall in terms GOLD_PCT_SPAM, SPURIOUS_ERROR_RATE and MISSED_ERROR_RATE\n",
    "- Are precision and recall values as expected?"
   ]
  },
  {
   "cell_type": "code",
   "execution_count": null,
   "metadata": {},
   "outputs": [],
   "source": [
    "\n"
   ]
  },
  {
   "cell_type": "code",
   "execution_count": 47,
   "metadata": {},
   "outputs": [
    {
     "name": "stdout",
     "output_type": "stream",
     "text": [
      "System 1 precision: 0.7696335078534031\n",
      "System 2 precision: 0.7148936170212766\n",
      "System 1 recall: 0.7777777777777778\n",
      "System 2 recall: 0.8888888888888888\n"
     ]
    }
   ],
   "source": [
    "# TODO: replace the content of this cell with your Python solution\n",
    "print(\"System 1 precision:\", precision_score(Yg0, Y10))\n",
    "print(\"System 2 precision:\", precision_score(Yg0, Y20))\n",
    "print(\"System 1 recall:\", recall_score(Yg0, Y10))\n",
    "print(\"System 2 recall:\", recall_score(Yg0, Y20))"
   ]
  },
  {
   "cell_type": "markdown",
   "metadata": {},
   "source": [
    "### TODO Calculate accuracy score across folds\n",
    "\n",
    "- Calculate accuracy across folds\n",
    "- Compare mean and standard deviation"
   ]
  },
  {
   "cell_type": "code",
   "execution_count": 48,
   "metadata": {
    "scrolled": true
   },
   "outputs": [
    {
     "name": "stdout",
     "output_type": "stream",
     "text": [
      "System 1 mu, sigma: 0.9183000000000001 0.009110982383914489\n",
      "System 2 mu, sigma: 0.9032 0.008726969691708579\n"
     ]
    }
   ],
   "source": [
    "def score_folds(Ygf, Ysf, scorer, **kwargs):\n",
    "    for Yg, Ys in zip(Ygf, Ysf):\n",
    "        yield scorer(Yg, Ys, **kwargs)\n",
    "        \n",
    "Y_sys1_accuracy = list(score_folds(Y_gold_folds, Y_sys1_folds, accuracy_score))\n",
    "Y_sys2_accuracy = list(score_folds(Y_gold_folds, Y_sys2_folds, accuracy_score))\n",
    "\n",
    "print(\"System 1 mu, sigma:\", np.mean(Y_sys1_accuracy), np.std(Y_sys1_accuracy))\n",
    "print(\"System 2 mu, sigma:\", np.mean(Y_sys2_accuracy), np.std(Y_sys2_accuracy))\n"
   ]
  },
  {
   "cell_type": "markdown",
   "metadata": {},
   "source": [
    "- Calculate f1_score across folds\n",
    "- Compare mean and standard deviation"
   ]
  },
  {
   "cell_type": "code",
   "execution_count": 49,
   "metadata": {},
   "outputs": [
    {
     "name": "stdout",
     "output_type": "stream",
     "text": [
      "F1 Score\n",
      "System 1 mu, sigma: 0.7910217226298194 0.01706602546073308\n",
      "System 2 mu, sigma: 0.7826564747423641 0.01691552579409219\n"
     ]
    }
   ],
   "source": [
    "# TODO: replace the content of this cell with your Python solution\n",
    "print(\"F1 Score\")\n",
    "Y_sys1_accuracy = list(score_folds(Y_gold_folds, Y_sys1_folds, f1_score))\n",
    "Y_sys2_accuracy = list(score_folds(Y_gold_folds, Y_sys2_folds, f1_score))\n",
    "print(\"System 1 mu, sigma:\", np.mean(Y_sys1_accuracy), np.std(Y_sys1_accuracy))\n",
    "print(\"System 2 mu, sigma:\", np.mean(Y_sys2_accuracy), np.std(Y_sys2_accuracy))"
   ]
  },
  {
   "cell_type": "markdown",
   "metadata": {},
   "source": [
    "### TODO Compute signficance for H1 sys1 > sys2\n",
    "\n",
    "- Calculate one-sided paired t-test for accurach and f1 score\n",
    "- How do your average scores compare to your neighbours (or across multiple runs)?\n",
    "- How do your p-values compare to your neighbours (or across multiple runs)?\n",
    "- Would you expect this variation in a real experiment?\n",
    "- What does this variation say about reliability of experiments?\n",
    "- How can we increase reliability?"
   ]
  },
  {
   "cell_type": "code",
   "execution_count": 50,
   "metadata": {},
   "outputs": [],
   "source": [
    "\n",
    "# TODO: replace the content of this cell with your Python solution\n",
    "from scipy.stats import ttest_ind\n",
    "def t_test(x,y,alternative='both-sided'):\n",
    "    _, double_p = ttest_ind(x,y,equal_var = False)\n",
    "    if alternative == 'both-sided':\n",
    "        pval = double_p\n",
    "    elif alternative == 'greater':\n",
    "        if np.mean(x) > np.mean(y):\n",
    "            pval = double_p/2.\n",
    "        else:\n",
    "            pval = 1.0 - double_p/2.\n",
    "    elif alternative == 'less':\n",
    "        if np.mean(x) < np.mean(y):\n",
    "            pval = double_p/2.\n",
    "        else:\n",
    "            pval = 1.0 - double_p/2.\n",
    "    return pval"
   ]
  },
  {
   "cell_type": "code",
   "execution_count": 51,
   "metadata": {},
   "outputs": [
    {
     "name": "stdout",
     "output_type": "stream",
     "text": [
      "p-value 0.1550623263\n",
      "we accept null hypothesis\n"
     ]
    }
   ],
   "source": [
    "pval = t_test(Y_sys1_accuracy, Y_sys2_accuracy, alternative = \"greater\")\n",
    "print(\"p-value\", '{0:.10f}'.format(pval))\n",
    "\n",
    "if pval <0.05:\n",
    "    print(\"we reject null hypothesis\")\n",
    "else:\n",
    "    print(\"we accept null hypothesis\")"
   ]
  },
  {
   "cell_type": "code",
   "execution_count": null,
   "metadata": {},
   "outputs": [],
   "source": []
  },
  {
   "cell_type": "markdown",
   "metadata": {},
   "source": [
    "## *End of the Exercise*"
   ]
  }
 ],
 "metadata": {
  "kernelspec": {
   "display_name": "Python 3 (ipykernel)",
   "language": "python",
   "name": "python3"
  },
  "language_info": {
   "codemirror_mode": {
    "name": "ipython",
    "version": 3
   },
   "file_extension": ".py",
   "mimetype": "text/x-python",
   "name": "python",
   "nbconvert_exporter": "python",
   "pygments_lexer": "ipython3",
   "version": "3.11.5"
  },
  "vscode": {
   "interpreter": {
    "hash": "bea42e1b0e07028483ba0ff26b9b4dc4fa162e9d0ccb6b0507d54b9d42d30653"
   }
  }
 },
 "nbformat": 4,
 "nbformat_minor": 1
}
